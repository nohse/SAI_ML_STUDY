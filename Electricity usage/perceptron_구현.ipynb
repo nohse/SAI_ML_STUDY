{
 "cells": [
  {
   "cell_type": "code",
   "execution_count": 1,
   "id": "522352b9-136a-458b-a20e-7230b5377deb",
   "metadata": {},
   "outputs": [
    {
     "name": "stdout",
     "output_type": "stream",
     "text": [
      "0\n",
      "0\n",
      "0\n",
      "1\n"
     ]
    }
   ],
   "source": [
    "epsilon = 0.0000001\n",
    "\n",
    "def perceptron(x1, x2):\n",
    "    w1, w2, b = 1.0, 1.0, -1.5\n",
    "    sum = x1 * w1 + x2 * w2 + b\n",
    "    if sum > epsilon:\n",
    "        return 1\n",
    "    else:\n",
    "        return 0\n",
    "\n",
    "print(perceptron(0,0))\n",
    "print(perceptron(0,1))\n",
    "print(perceptron(1,0))\n",
    "print(perceptron(1,1))"
   ]
  },
  {
   "cell_type": "code",
   "execution_count": 2,
   "id": "8c5e3a85-f786-403c-bf6a-7fdbb40dc849",
   "metadata": {},
   "outputs": [
    {
     "name": "stdout",
     "output_type": "stream",
     "text": [
      "0\n",
      "0\n",
      "0\n",
      "1\n"
     ]
    }
   ],
   "source": [
    "import numpy as np\n",
    "\n",
    "def perceptron(x1, x2):\n",
    "    X = np.array([x1, x2])\n",
    "    W = np.array([1.0, 1.0])\n",
    "    B = -1.5\n",
    "    sum = np.dot(W,X) + B\n",
    "    if sum > epsilon:\n",
    "        return 1\n",
    "    else:\n",
    "        return 0\n",
    "    \n",
    "print(perceptron(0,0))\n",
    "print(perceptron(0,1))\n",
    "print(perceptron(1,0))\n",
    "print(perceptron(1,1))"
   ]
  },
  {
   "cell_type": "code",
   "execution_count": null,
   "id": "63c22e2a-8fe0-4357-9c50-daacb4b4a5da",
   "metadata": {},
   "outputs": [],
   "source": []
  }
 ],
 "metadata": {
  "kernelspec": {
   "display_name": "Python 3 (ipykernel)",
   "language": "python",
   "name": "python3"
  },
  "language_info": {
   "codemirror_mode": {
    "name": "ipython",
    "version": 3
   },
   "file_extension": ".py",
   "mimetype": "text/x-python",
   "name": "python",
   "nbconvert_exporter": "python",
   "pygments_lexer": "ipython3",
   "version": "3.10.8"
  }
 },
 "nbformat": 4,
 "nbformat_minor": 5
}
