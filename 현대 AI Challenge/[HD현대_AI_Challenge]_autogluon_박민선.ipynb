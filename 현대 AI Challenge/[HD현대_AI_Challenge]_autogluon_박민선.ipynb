{
 "cells": [
  {
   "cell_type": "code",
   "execution_count": 1,
   "id": "968b71cd-728d-41f0-a320-3856f41de686",
   "metadata": {},
   "outputs": [
    {
     "name": "stderr",
     "output_type": "stream",
     "text": [
      "Encoding features: 100%|█████████████████████████████████████████████████████████████████| 6/6 [00:01<00:00,  3.05it/s]\n"
     ]
    }
   ],
   "source": [
    "import matplotlib.pyplot as plt\n",
    "import pandas as pd\n",
    "import numpy as np\n",
    "import lightgbm as lgb\n",
    "import bisect\n",
    "from tqdm import tqdm\n",
    "from sklearn.metrics import mean_absolute_error\n",
    "from sklearn.preprocessing import LabelEncoder\n",
    "from sklearn.model_selection import KFold\n",
    "\n",
    "train = pd.read_csv('train.csv').drop(columns=['SAMPLE_ID'])\n",
    "test = pd.read_csv('test.csv').drop(columns=['SAMPLE_ID'])\n",
    "\n",
    "# datetime 컬럼 처리\n",
    "train['ATA'] = pd.to_datetime(train['ATA'])\n",
    "test['ATA'] = pd.to_datetime(test['ATA'])\n",
    "\n",
    "# datetime을 여러 파생 변수로 변환\n",
    "for df in [train, test]:\n",
    "    df['year'] = df['ATA'].dt.year\n",
    "    df['month'] = df['ATA'].dt.month\n",
    "    df['day'] = df['ATA'].dt.day\n",
    "    df['hour'] = df['ATA'].dt.hour\n",
    "    df['minute'] = df['ATA'].dt.minute\n",
    "    df['weekday'] = df['ATA'].dt.weekday\n",
    "\n",
    "# datetime 컬럼 제거\n",
    "train.drop(columns='ATA', inplace=True)\n",
    "test.drop(columns='ATA', inplace=True)\n",
    "\n",
    "# Categorical 컬럼 인코딩\n",
    "categorical_features = ['ARI_CO', 'ARI_PO', 'SHIP_TYPE_CATEGORY', 'ID', 'SHIPMANAGER', 'FLAG']\n",
    "encoders = {}\n",
    "\n",
    "for feature in tqdm(categorical_features, desc=\"Encoding features\"):\n",
    "    le = LabelEncoder()\n",
    "    train[feature] = le.fit_transform(train[feature].astype(str))\n",
    "    le_classes_set = set(le.classes_)\n",
    "    test[feature] = test[feature].map(lambda s: '-1' if s not in le_classes_set else s)\n",
    "    le_classes = le.classes_.tolist()\n",
    "    bisect.insort_left(le_classes, '-1')\n",
    "    le.classes_ = np.array(le_classes)\n",
    "    test[feature] = le.transform(test[feature].astype(str))\n",
    "    encoders[feature] = le\n",
    "\n",
    "# # 결측치 처리  갈룬이 전처리도 담당\n",
    "# train.fillna(train.mean(), inplace=True)\n",
    "# test.fillna(train.mean(), inplace=True)\n"
   ]
  },
  {
   "cell_type": "code",
   "execution_count": 3,
   "id": "d04f6089-a475-4b31-8604-625cea64541e",
   "metadata": {},
   "outputs": [
    {
     "name": "stdout",
     "output_type": "stream",
     "text": [
      "Collecting autogluon\n",
      "  Using cached autogluon-0.8.2-py3-none-any.whl (9.7 kB)\n",
      "Collecting autogluon.core[all]==0.8.2\n",
      "  Using cached autogluon.core-0.8.2-py3-none-any.whl (224 kB)\n",
      "Collecting autogluon.timeseries[all]==0.8.2\n",
      "  Using cached autogluon.timeseries-0.8.2-py3-none-any.whl (116 kB)\n",
      "Collecting autogluon.tabular[all]==0.8.2\n",
      "  Using cached autogluon.tabular-0.8.2-py3-none-any.whl (285 kB)\n",
      "Collecting autogluon.multimodal==0.8.2\n",
      "  Using cached autogluon.multimodal-0.8.2-py3-none-any.whl (372 kB)\n",
      "Collecting autogluon.features==0.8.2\n",
      "  Using cached autogluon.features-0.8.2-py3-none-any.whl (62 kB)\n",
      "Requirement already satisfied: tqdm<5,>=4.38 in c:\\users\\user\\miniconda3\\envs\\py\\lib\\site-packages (from autogluon.core[all]==0.8.2->autogluon) (4.65.2)\n",
      "Requirement already satisfied: requests in c:\\users\\user\\miniconda3\\envs\\py\\lib\\site-packages (from autogluon.core[all]==0.8.2->autogluon) (2.28.2)\n",
      "Requirement already satisfied: boto3<2,>=1.10 in c:\\users\\user\\miniconda3\\envs\\py\\lib\\site-packages (from autogluon.core[all]==0.8.2->autogluon) (1.26.109)\n",
      "Requirement already satisfied: scipy<1.12,>=1.5.4 in c:\\users\\user\\miniconda3\\envs\\py\\lib\\site-packages (from autogluon.core[all]==0.8.2->autogluon) (1.10.0)\n",
      "Requirement already satisfied: scikit-learn<1.3,>=1.0 in c:\\users\\user\\miniconda3\\envs\\py\\lib\\site-packages (from autogluon.core[all]==0.8.2->autogluon) (1.2.1)\n",
      "Requirement already satisfied: numpy<1.27,>=1.21 in c:\\users\\user\\miniconda3\\envs\\py\\lib\\site-packages (from autogluon.core[all]==0.8.2->autogluon) (1.23.5)\n",
      "Collecting autogluon.common==0.8.2\n",
      "  Using cached autogluon.common-0.8.2-py3-none-any.whl (61 kB)\n",
      "Requirement already satisfied: pandas<1.6,>=1.4.1 in c:\\users\\user\\miniconda3\\envs\\py\\lib\\site-packages (from autogluon.core[all]==0.8.2->autogluon) (1.5.2)\n",
      "Requirement already satisfied: matplotlib in c:\\users\\user\\miniconda3\\envs\\py\\lib\\site-packages (from autogluon.core[all]==0.8.2->autogluon) (3.6.3)\n",
      "Requirement already satisfied: networkx<4,>=3.0 in c:\\users\\user\\miniconda3\\envs\\py\\lib\\site-packages (from autogluon.core[all]==0.8.2->autogluon) (3.1)\n",
      "Collecting ray[default]<2.4,>=2.3\n",
      "  Using cached ray-2.3.1-cp310-cp310-win_amd64.whl (21.7 MB)\n",
      "Collecting hyperopt<0.2.8,>=0.2.7\n",
      "  Using cached hyperopt-0.2.7-py2.py3-none-any.whl (1.6 MB)\n",
      "Requirement already satisfied: grpcio<=1.50.0,>=1.42.0 in c:\\users\\user\\miniconda3\\envs\\py\\lib\\site-packages (from autogluon.core[all]==0.8.2->autogluon) (1.50.0)\n",
      "Requirement already satisfied: pydantic<2.0,>=1.10.4 in c:\\users\\user\\miniconda3\\envs\\py\\lib\\site-packages (from autogluon.core[all]==0.8.2->autogluon) (1.10.13)\n",
      "Requirement already satisfied: scikit-image<0.20.0,>=0.19.1 in c:\\users\\user\\miniconda3\\envs\\py\\lib\\site-packages (from autogluon.multimodal==0.8.2->autogluon) (0.19.3)\n",
      "Collecting openmim<0.4.0,>=0.3.7\n",
      "  Using cached openmim-0.3.9-py2.py3-none-any.whl (52 kB)\n",
      "Requirement already satisfied: accelerate<0.17,>=0.9 in c:\\users\\user\\miniconda3\\envs\\py\\lib\\site-packages (from autogluon.multimodal==0.8.2->autogluon) (0.16.0)\n",
      "Requirement already satisfied: torch<1.14,>=1.9 in c:\\users\\user\\miniconda3\\envs\\py\\lib\\site-packages (from autogluon.multimodal==0.8.2->autogluon) (1.13.1)\n",
      "Requirement already satisfied: nltk<4.0.0,>=3.4.5 in c:\\users\\user\\miniconda3\\envs\\py\\lib\\site-packages (from autogluon.multimodal==0.8.2->autogluon) (3.8.1)\n",
      "Collecting nlpaug<1.2.0,>=1.1.10\n",
      "  Using cached nlpaug-1.1.11-py3-none-any.whl (410 kB)\n",
      "Requirement already satisfied: Pillow<9.6,>=9.3 in c:\\users\\user\\miniconda3\\envs\\py\\lib\\site-packages (from autogluon.multimodal==0.8.2->autogluon) (9.4.0)\n",
      "Requirement already satisfied: tensorboard<3,>=2.9 in c:\\users\\user\\miniconda3\\envs\\py\\lib\\site-packages (from autogluon.multimodal==0.8.2->autogluon) (2.12.2)\n",
      "Requirement already satisfied: omegaconf<2.3.0,>=2.1.1 in c:\\users\\user\\miniconda3\\envs\\py\\lib\\site-packages (from autogluon.multimodal==0.8.2->autogluon) (2.2.3)\n",
      "Requirement already satisfied: defusedxml<0.7.2,>=0.7.1 in c:\\users\\user\\miniconda3\\envs\\py\\lib\\site-packages (from autogluon.multimodal==0.8.2->autogluon) (0.7.1)\n",
      "Requirement already satisfied: torchvision<0.15.0 in c:\\users\\user\\miniconda3\\envs\\py\\lib\\site-packages (from autogluon.multimodal==0.8.2->autogluon) (0.14.1)\n",
      "Requirement already satisfied: seqeval<1.3.0,>=1.2.2 in c:\\users\\user\\miniconda3\\envs\\py\\lib\\site-packages (from autogluon.multimodal==0.8.2->autogluon) (1.2.2)\n",
      "Collecting timm<0.10.0,>=0.9.2\n",
      "  Using cached timm-0.9.7-py3-none-any.whl (2.2 MB)\n",
      "Collecting pytorch-lightning<1.10.0,>=1.9.0\n",
      "  Using cached pytorch_lightning-1.9.5-py3-none-any.whl (829 kB)\n",
      "Requirement already satisfied: text-unidecode<1.4,>=1.3 in c:\\users\\user\\miniconda3\\envs\\py\\lib\\site-packages (from autogluon.multimodal==0.8.2->autogluon) (1.3)\n",
      "Requirement already satisfied: jsonschema<4.18,>=4.14 in c:\\users\\user\\miniconda3\\envs\\py\\lib\\site-packages (from autogluon.multimodal==0.8.2->autogluon) (4.16.0)\n",
      "Collecting evaluate<0.4.0,>=0.2.2\n",
      "  Using cached evaluate-0.3.0-py3-none-any.whl (72 kB)\n",
      "Requirement already satisfied: nptyping<2.5.0,>=1.4.4 in c:\\users\\user\\miniconda3\\envs\\py\\lib\\site-packages (from autogluon.multimodal==0.8.2->autogluon) (2.4.1)\n",
      "Requirement already satisfied: transformers[sentencepiece]<4.27.0,>=4.23.0 in c:\\users\\user\\miniconda3\\envs\\py\\lib\\site-packages (from autogluon.multimodal==0.8.2->autogluon) (4.26.0)\n",
      "Requirement already satisfied: torchmetrics<0.12.0,>=0.11.0 in c:\\users\\user\\miniconda3\\envs\\py\\lib\\site-packages (from autogluon.multimodal==0.8.2->autogluon) (0.11.4)\n",
      "Requirement already satisfied: pytesseract<0.3.11,>=0.3.9 in c:\\users\\user\\miniconda3\\envs\\py\\lib\\site-packages (from autogluon.multimodal==0.8.2->autogluon) (0.3.10)\n",
      "Collecting pytorch-metric-learning<2.0,>=1.3.0\n",
      "  Using cached pytorch_metric_learning-1.7.3-py3-none-any.whl (112 kB)\n",
      "Requirement already satisfied: jinja2<3.2,>=3.0.3 in c:\\users\\user\\miniconda3\\envs\\py\\lib\\site-packages (from autogluon.multimodal==0.8.2->autogluon) (3.1.2)\n",
      "Requirement already satisfied: lightgbm<3.4,>=3.3 in c:\\users\\user\\miniconda3\\envs\\py\\lib\\site-packages (from autogluon.tabular[all]==0.8.2->autogluon) (3.3.5)\n",
      "Collecting catboost<1.3,>=1.1\n",
      "  Using cached catboost-1.2.2-cp310-cp310-win_amd64.whl (101.0 MB)\n",
      "Collecting fastai<2.8,>=2.3.1\n",
      "  Using cached fastai-2.7.12-py3-none-any.whl (233 kB)\n",
      "Requirement already satisfied: xgboost<1.8,>=1.6 in c:\\users\\user\\miniconda3\\envs\\py\\lib\\site-packages (from autogluon.tabular[all]==0.8.2->autogluon) (1.7.4)\n",
      "Requirement already satisfied: joblib<2,>=1.1 in c:\\users\\user\\miniconda3\\envs\\py\\lib\\site-packages (from autogluon.timeseries[all]==0.8.2->autogluon) (1.2.0)\n",
      "Collecting statsforecast<1.5,>=1.4.0\n",
      "  Using cached statsforecast-1.4.0-py3-none-any.whl (91 kB)\n",
      "Collecting gluonts<0.14,>=0.13.1\n",
      "  Using cached gluonts-0.13.5-py3-none-any.whl (1.5 MB)\n",
      "Requirement already satisfied: statsmodels<0.15,>=0.13.0 in c:\\users\\user\\miniconda3\\envs\\py\\lib\\site-packages (from autogluon.timeseries[all]==0.8.2->autogluon) (0.13.5)\n",
      "Requirement already satisfied: ujson<6,>=5 in c:\\users\\user\\miniconda3\\envs\\py\\lib\\site-packages (from autogluon.timeseries[all]==0.8.2->autogluon) (5.8.0)\n",
      "Collecting mlforecast<0.7.4,>=0.7.0\n",
      "  Using cached mlforecast-0.7.3-py3-none-any.whl (43 kB)\n",
      "Requirement already satisfied: setuptools in c:\\users\\user\\miniconda3\\envs\\py\\lib\\site-packages (from autogluon.common==0.8.2->autogluon.core[all]==0.8.2->autogluon) (60.2.0)\n",
      "Requirement already satisfied: psutil<6,>=5.7.3 in c:\\users\\user\\miniconda3\\envs\\py\\lib\\site-packages (from autogluon.common==0.8.2->autogluon.core[all]==0.8.2->autogluon) (5.9.0)\n",
      "Requirement already satisfied: packaging>=20.0 in c:\\users\\user\\miniconda3\\envs\\py\\lib\\site-packages (from accelerate<0.17,>=0.9->autogluon.multimodal==0.8.2->autogluon) (22.0)\n",
      "Requirement already satisfied: pyyaml in c:\\users\\user\\miniconda3\\envs\\py\\lib\\site-packages (from accelerate<0.17,>=0.9->autogluon.multimodal==0.8.2->autogluon) (6.0.1)\n",
      "Requirement already satisfied: botocore<1.30.0,>=1.29.109 in c:\\users\\user\\miniconda3\\envs\\py\\lib\\site-packages (from boto3<2,>=1.10->autogluon.core[all]==0.8.2->autogluon) (1.29.109)\n",
      "Requirement already satisfied: jmespath<2.0.0,>=0.7.1 in c:\\users\\user\\miniconda3\\envs\\py\\lib\\site-packages (from boto3<2,>=1.10->autogluon.core[all]==0.8.2->autogluon) (0.10.0)\n",
      "Requirement already satisfied: s3transfer<0.7.0,>=0.6.0 in c:\\users\\user\\miniconda3\\envs\\py\\lib\\site-packages (from boto3<2,>=1.10->autogluon.core[all]==0.8.2->autogluon) (0.6.0)\n",
      "Requirement already satisfied: six in c:\\users\\user\\miniconda3\\envs\\py\\lib\\site-packages (from catboost<1.3,>=1.1->autogluon.tabular[all]==0.8.2->autogluon) (1.16.0)\n",
      "Requirement already satisfied: graphviz in c:\\users\\user\\miniconda3\\envs\\py\\lib\\site-packages (from catboost<1.3,>=1.1->autogluon.tabular[all]==0.8.2->autogluon) (0.20.1)\n",
      "Requirement already satisfied: plotly in c:\\users\\user\\miniconda3\\envs\\py\\lib\\site-packages (from catboost<1.3,>=1.1->autogluon.tabular[all]==0.8.2->autogluon) (5.17.0)\n",
      "Requirement already satisfied: xxhash in c:\\users\\user\\miniconda3\\envs\\py\\lib\\site-packages (from evaluate<0.4.0,>=0.2.2->autogluon.multimodal==0.8.2->autogluon) (3.2.0)\n",
      "Requirement already satisfied: datasets>=2.0.0 in c:\\users\\user\\miniconda3\\envs\\py\\lib\\site-packages (from evaluate<0.4.0,>=0.2.2->autogluon.multimodal==0.8.2->autogluon) (2.9.0)\n",
      "Requirement already satisfied: huggingface-hub>=0.7.0 in c:\\users\\user\\miniconda3\\envs\\py\\lib\\site-packages (from evaluate<0.4.0,>=0.2.2->autogluon.multimodal==0.8.2->autogluon) (0.12.0)\n",
      "Requirement already satisfied: multiprocess in c:\\users\\user\\miniconda3\\envs\\py\\lib\\site-packages (from evaluate<0.4.0,>=0.2.2->autogluon.multimodal==0.8.2->autogluon) (0.70.14)\n",
      "Requirement already satisfied: dill in c:\\users\\user\\miniconda3\\envs\\py\\lib\\site-packages (from evaluate<0.4.0,>=0.2.2->autogluon.multimodal==0.8.2->autogluon) (0.3.6)\n",
      "Requirement already satisfied: fsspec[http]>=2021.05.0 in c:\\users\\user\\miniconda3\\envs\\py\\lib\\site-packages (from evaluate<0.4.0,>=0.2.2->autogluon.multimodal==0.8.2->autogluon) (2023.1.0)\n",
      "Requirement already satisfied: responses<0.19 in c:\\users\\user\\miniconda3\\envs\\py\\lib\\site-packages (from evaluate<0.4.0,>=0.2.2->autogluon.multimodal==0.8.2->autogluon) (0.18.0)\n",
      "Collecting spacy<4\n",
      "  Using cached spacy-3.6.1-cp310-cp310-win_amd64.whl (12.0 MB)\n",
      "Requirement already satisfied: fastdownload<2,>=0.0.5 in c:\\users\\user\\miniconda3\\envs\\py\\lib\\site-packages (from fastai<2.8,>=2.3.1->autogluon.tabular[all]==0.8.2->autogluon) (0.0.7)\n",
      "Requirement already satisfied: pip in c:\\users\\user\\miniconda3\\envs\\py\\lib\\site-packages (from fastai<2.8,>=2.3.1->autogluon.tabular[all]==0.8.2->autogluon) (22.3.1)\n",
      "Requirement already satisfied: fastprogress>=0.2.4 in c:\\users\\user\\miniconda3\\envs\\py\\lib\\site-packages (from fastai<2.8,>=2.3.1->autogluon.tabular[all]==0.8.2->autogluon) (1.0.3)\n",
      "Requirement already satisfied: fastcore<1.6,>=1.5.29 in c:\\users\\user\\miniconda3\\envs\\py\\lib\\site-packages (from fastai<2.8,>=2.3.1->autogluon.tabular[all]==0.8.2->autogluon) (1.5.29)\n",
      "Requirement already satisfied: toolz~=0.10 in c:\\users\\user\\miniconda3\\envs\\py\\lib\\site-packages (from gluonts<0.14,>=0.13.1->autogluon.timeseries[all]==0.8.2->autogluon) (0.12.0)\n",
      "Requirement already satisfied: typing-extensions~=4.0 in c:\\users\\user\\miniconda3\\envs\\py\\lib\\site-packages (from gluonts<0.14,>=0.13.1->autogluon.timeseries[all]==0.8.2->autogluon) (4.4.0)\n",
      "Requirement already satisfied: future in c:\\users\\user\\miniconda3\\envs\\py\\lib\\site-packages (from hyperopt<0.2.8,>=0.2.7->autogluon.core[all]==0.8.2->autogluon) (0.18.3)\n",
      "Requirement already satisfied: cloudpickle in c:\\users\\user\\miniconda3\\envs\\py\\lib\\site-packages (from hyperopt<0.2.8,>=0.2.7->autogluon.core[all]==0.8.2->autogluon) (2.2.1)\n",
      "Requirement already satisfied: py4j in c:\\users\\user\\miniconda3\\envs\\py\\lib\\site-packages (from hyperopt<0.2.8,>=0.2.7->autogluon.core[all]==0.8.2->autogluon) (0.10.9.7)\n",
      "Requirement already satisfied: MarkupSafe>=2.0 in c:\\users\\user\\miniconda3\\envs\\py\\lib\\site-packages (from jinja2<3.2,>=3.0.3->autogluon.multimodal==0.8.2->autogluon) (2.1.1)\n",
      "Requirement already satisfied: attrs>=17.4.0 in c:\\users\\user\\miniconda3\\envs\\py\\lib\\site-packages (from jsonschema<4.18,>=4.14->autogluon.multimodal==0.8.2->autogluon) (22.1.0)\n",
      "Requirement already satisfied: pyrsistent!=0.17.0,!=0.17.1,!=0.17.2,>=0.14.0 in c:\\users\\user\\miniconda3\\envs\\py\\lib\\site-packages (from jsonschema<4.18,>=4.14->autogluon.multimodal==0.8.2->autogluon) (0.18.0)\n",
      "Requirement already satisfied: wheel in c:\\users\\user\\miniconda3\\envs\\py\\lib\\site-packages (from lightgbm<3.4,>=3.3->autogluon.tabular[all]==0.8.2->autogluon) (0.37.1)\n",
      "Requirement already satisfied: window-ops in c:\\users\\user\\miniconda3\\envs\\py\\lib\\site-packages (from mlforecast<0.7.4,>=0.7.0->autogluon.timeseries[all]==0.8.2->autogluon) (0.0.14)\n",
      "Requirement already satisfied: numba in c:\\users\\user\\miniconda3\\envs\\py\\lib\\site-packages (from mlforecast<0.7.4,>=0.7.0->autogluon.timeseries[all]==0.8.2->autogluon) (0.57.0)\n",
      "Collecting gdown>=4.0.0\n",
      "  Using cached gdown-4.7.1-py3-none-any.whl (15 kB)\n",
      "Requirement already satisfied: click in c:\\users\\user\\miniconda3\\envs\\py\\lib\\site-packages (from nltk<4.0.0,>=3.4.5->autogluon.multimodal==0.8.2->autogluon) (8.1.3)\n",
      "Requirement already satisfied: regex>=2021.8.3 in c:\\users\\user\\miniconda3\\envs\\py\\lib\\site-packages (from nltk<4.0.0,>=3.4.5->autogluon.multimodal==0.8.2->autogluon) (2022.10.31)\n",
      "Requirement already satisfied: antlr4-python3-runtime==4.9.* in c:\\users\\user\\miniconda3\\envs\\py\\lib\\site-packages (from omegaconf<2.3.0,>=2.1.1->autogluon.multimodal==0.8.2->autogluon) (4.9.3)\n",
      "Requirement already satisfied: rich in c:\\users\\user\\miniconda3\\envs\\py\\lib\\site-packages (from openmim<0.4.0,>=0.3.7->autogluon.multimodal==0.8.2->autogluon) (13.4.2)\n",
      "Requirement already satisfied: colorama in c:\\users\\user\\miniconda3\\envs\\py\\lib\\site-packages (from openmim<0.4.0,>=0.3.7->autogluon.multimodal==0.8.2->autogluon) (0.4.6)\n",
      "Collecting opendatalab\n",
      "  Using cached opendatalab-0.0.10-py3-none-any.whl (29 kB)\n",
      "Collecting model-index\n",
      "  Using cached model_index-0.1.11-py3-none-any.whl (34 kB)\n",
      "Requirement already satisfied: tabulate in c:\\users\\user\\miniconda3\\envs\\py\\lib\\site-packages (from openmim<0.4.0,>=0.3.7->autogluon.multimodal==0.8.2->autogluon) (0.9.0)\n",
      "Requirement already satisfied: pytz>=2020.1 in c:\\users\\user\\miniconda3\\envs\\py\\lib\\site-packages (from pandas<1.6,>=1.4.1->autogluon.core[all]==0.8.2->autogluon) (2023.3.post1)\n",
      "Requirement already satisfied: python-dateutil>=2.8.1 in c:\\users\\user\\miniconda3\\envs\\py\\lib\\site-packages (from pandas<1.6,>=1.4.1->autogluon.core[all]==0.8.2->autogluon) (2.8.2)\n",
      "Requirement already satisfied: lightning-utilities>=0.6.0.post0 in c:\\users\\user\\miniconda3\\envs\\py\\lib\\site-packages (from pytorch-lightning<1.10.0,>=1.9.0->autogluon.multimodal==0.8.2->autogluon) (0.9.0)\n",
      "Requirement already satisfied: aiosignal in c:\\users\\user\\miniconda3\\envs\\py\\lib\\site-packages (from ray[default]<2.4,>=2.3->autogluon.core[all]==0.8.2->autogluon) (1.3.1)\n",
      "Requirement already satisfied: virtualenv>=20.0.24 in c:\\users\\user\\miniconda3\\envs\\py\\lib\\site-packages (from ray[default]<2.4,>=2.3->autogluon.core[all]==0.8.2->autogluon) (20.24.5)\n",
      "Requirement already satisfied: filelock in c:\\users\\user\\miniconda3\\envs\\py\\lib\\site-packages (from ray[default]<2.4,>=2.3->autogluon.core[all]==0.8.2->autogluon) (3.12.4)\n",
      "Requirement already satisfied: msgpack<2.0.0,>=1.0.0 in c:\\users\\user\\miniconda3\\envs\\py\\lib\\site-packages (from ray[default]<2.4,>=2.3->autogluon.core[all]==0.8.2->autogluon) (1.0.7)\n",
      "Requirement already satisfied: protobuf!=3.19.5,>=3.15.3 in c:\\users\\user\\miniconda3\\envs\\py\\lib\\site-packages (from ray[default]<2.4,>=2.3->autogluon.core[all]==0.8.2->autogluon) (3.20.2)\n",
      "Requirement already satisfied: frozenlist in c:\\users\\user\\miniconda3\\envs\\py\\lib\\site-packages (from ray[default]<2.4,>=2.3->autogluon.core[all]==0.8.2->autogluon) (1.3.3)\n",
      "Collecting gpustat>=1.0.0\n",
      "  Using cached gpustat-1.1.1-py3-none-any.whl\n",
      "Requirement already satisfied: colorful in c:\\users\\user\\miniconda3\\envs\\py\\lib\\site-packages (from ray[default]<2.4,>=2.3->autogluon.core[all]==0.8.2->autogluon) (0.5.5)\n",
      "Requirement already satisfied: prometheus-client>=0.7.1 in c:\\users\\user\\miniconda3\\envs\\py\\lib\\site-packages (from ray[default]<2.4,>=2.3->autogluon.core[all]==0.8.2->autogluon) (0.14.1)\n",
      "Requirement already satisfied: smart-open in c:\\users\\user\\miniconda3\\envs\\py\\lib\\site-packages (from ray[default]<2.4,>=2.3->autogluon.core[all]==0.8.2->autogluon) (6.3.0)\n",
      "Collecting aiohttp-cors\n",
      "  Using cached aiohttp_cors-0.7.0-py3-none-any.whl (27 kB)\n",
      "Collecting opencensus\n",
      "  Using cached opencensus-0.11.3-py2.py3-none-any.whl (128 kB)\n",
      "Requirement already satisfied: py-spy>=0.2.0 in c:\\users\\user\\miniconda3\\envs\\py\\lib\\site-packages (from ray[default]<2.4,>=2.3->autogluon.core[all]==0.8.2->autogluon) (0.3.14)\n",
      "Requirement already satisfied: aiohttp>=3.7 in c:\\users\\user\\miniconda3\\envs\\py\\lib\\site-packages (from ray[default]<2.4,>=2.3->autogluon.core[all]==0.8.2->autogluon) (3.8.3)\n",
      "Requirement already satisfied: tensorboardX>=1.9 in c:\\users\\user\\miniconda3\\envs\\py\\lib\\site-packages (from ray[default]<2.4,>=2.3->autogluon.core[all]==0.8.2->autogluon) (2.6.2.2)\n",
      "Requirement already satisfied: idna<4,>=2.5 in c:\\users\\user\\miniconda3\\envs\\py\\lib\\site-packages (from requests->autogluon.core[all]==0.8.2->autogluon) (3.4)\n",
      "Requirement already satisfied: charset-normalizer<4,>=2 in c:\\users\\user\\miniconda3\\envs\\py\\lib\\site-packages (from requests->autogluon.core[all]==0.8.2->autogluon) (2.0.4)\n",
      "Requirement already satisfied: urllib3<1.27,>=1.21.1 in c:\\users\\user\\miniconda3\\envs\\py\\lib\\site-packages (from requests->autogluon.core[all]==0.8.2->autogluon) (1.26.13)\n",
      "Requirement already satisfied: certifi>=2017.4.17 in c:\\users\\user\\miniconda3\\envs\\py\\lib\\site-packages (from requests->autogluon.core[all]==0.8.2->autogluon) (2022.12.7)\n",
      "Requirement already satisfied: imageio>=2.4.1 in c:\\users\\user\\miniconda3\\envs\\py\\lib\\site-packages (from scikit-image<0.20.0,>=0.19.1->autogluon.multimodal==0.8.2->autogluon) (2.26.0)\n",
      "Requirement already satisfied: tifffile>=2019.7.26 in c:\\users\\user\\miniconda3\\envs\\py\\lib\\site-packages (from scikit-image<0.20.0,>=0.19.1->autogluon.multimodal==0.8.2->autogluon) (2023.4.12)\n",
      "Requirement already satisfied: PyWavelets>=1.1.1 in c:\\users\\user\\miniconda3\\envs\\py\\lib\\site-packages (from scikit-image<0.20.0,>=0.19.1->autogluon.multimodal==0.8.2->autogluon) (1.4.1)\n",
      "Requirement already satisfied: threadpoolctl>=2.0.0 in c:\\users\\user\\miniconda3\\envs\\py\\lib\\site-packages (from scikit-learn<1.3,>=1.0->autogluon.core[all]==0.8.2->autogluon) (3.1.0)\n",
      "Requirement already satisfied: patsy>=0.5.2 in c:\\users\\user\\miniconda3\\envs\\py\\lib\\site-packages (from statsmodels<0.15,>=0.13.0->autogluon.timeseries[all]==0.8.2->autogluon) (0.5.3)\n",
      "Requirement already satisfied: google-auth-oauthlib<1.1,>=0.5 in c:\\users\\user\\miniconda3\\envs\\py\\lib\\site-packages (from tensorboard<3,>=2.9->autogluon.multimodal==0.8.2->autogluon) (1.0.0)\n",
      "Requirement already satisfied: markdown>=2.6.8 in c:\\users\\user\\miniconda3\\envs\\py\\lib\\site-packages (from tensorboard<3,>=2.9->autogluon.multimodal==0.8.2->autogluon) (3.4.1)\n",
      "Requirement already satisfied: tensorboard-plugin-wit>=1.6.0 in c:\\users\\user\\miniconda3\\envs\\py\\lib\\site-packages (from tensorboard<3,>=2.9->autogluon.multimodal==0.8.2->autogluon) (1.8.1)\n",
      "Requirement already satisfied: werkzeug>=1.0.1 in c:\\users\\user\\miniconda3\\envs\\py\\lib\\site-packages (from tensorboard<3,>=2.9->autogluon.multimodal==0.8.2->autogluon) (2.2.2)\n",
      "Requirement already satisfied: tensorboard-data-server<0.8.0,>=0.7.0 in c:\\users\\user\\miniconda3\\envs\\py\\lib\\site-packages (from tensorboard<3,>=2.9->autogluon.multimodal==0.8.2->autogluon) (0.7.0)\n",
      "Requirement already satisfied: absl-py>=0.4 in c:\\users\\user\\miniconda3\\envs\\py\\lib\\site-packages (from tensorboard<3,>=2.9->autogluon.multimodal==0.8.2->autogluon) (1.4.0)\n",
      "Requirement already satisfied: google-auth<3,>=1.6.3 in c:\\users\\user\\miniconda3\\envs\\py\\lib\\site-packages (from tensorboard<3,>=2.9->autogluon.multimodal==0.8.2->autogluon) (2.16.0)\n",
      "Requirement already satisfied: safetensors in c:\\users\\user\\miniconda3\\envs\\py\\lib\\site-packages (from timm<0.10.0,>=0.9.2->autogluon.multimodal==0.8.2->autogluon) (0.3.3)\n",
      "Requirement already satisfied: tokenizers!=0.11.3,<0.14,>=0.11.1 in c:\\users\\user\\miniconda3\\envs\\py\\lib\\site-packages (from transformers[sentencepiece]<4.27.0,>=4.23.0->autogluon.multimodal==0.8.2->autogluon) (0.13.2)\n",
      "Requirement already satisfied: sentencepiece!=0.1.92,>=0.1.91 in c:\\users\\user\\miniconda3\\envs\\py\\lib\\site-packages (from transformers[sentencepiece]<4.27.0,>=4.23.0->autogluon.multimodal==0.8.2->autogluon) (0.1.97)\n",
      "Requirement already satisfied: cycler>=0.10 in c:\\users\\user\\miniconda3\\envs\\py\\lib\\site-packages (from matplotlib->autogluon.core[all]==0.8.2->autogluon) (0.11.0)\n",
      "Requirement already satisfied: kiwisolver>=1.0.1 in c:\\users\\user\\miniconda3\\envs\\py\\lib\\site-packages (from matplotlib->autogluon.core[all]==0.8.2->autogluon) (1.4.4)\n",
      "Requirement already satisfied: contourpy>=1.0.1 in c:\\users\\user\\miniconda3\\envs\\py\\lib\\site-packages (from matplotlib->autogluon.core[all]==0.8.2->autogluon) (1.0.6)\n",
      "Requirement already satisfied: fonttools>=4.22.0 in c:\\users\\user\\miniconda3\\envs\\py\\lib\\site-packages (from matplotlib->autogluon.core[all]==0.8.2->autogluon) (4.38.0)\n",
      "Requirement already satisfied: pyparsing>=2.2.1 in c:\\users\\user\\miniconda3\\envs\\py\\lib\\site-packages (from matplotlib->autogluon.core[all]==0.8.2->autogluon) (3.0.9)\n",
      "Requirement already satisfied: multidict<7.0,>=4.5 in c:\\users\\user\\miniconda3\\envs\\py\\lib\\site-packages (from aiohttp>=3.7->ray[default]<2.4,>=2.3->autogluon.core[all]==0.8.2->autogluon) (6.0.4)\n",
      "Requirement already satisfied: yarl<2.0,>=1.0 in c:\\users\\user\\miniconda3\\envs\\py\\lib\\site-packages (from aiohttp>=3.7->ray[default]<2.4,>=2.3->autogluon.core[all]==0.8.2->autogluon) (1.8.2)\n",
      "Requirement already satisfied: async-timeout<5.0,>=4.0.0a3 in c:\\users\\user\\miniconda3\\envs\\py\\lib\\site-packages (from aiohttp>=3.7->ray[default]<2.4,>=2.3->autogluon.core[all]==0.8.2->autogluon) (4.0.2)\n",
      "Requirement already satisfied: pyarrow>=6.0.0 in c:\\users\\user\\miniconda3\\envs\\py\\lib\\site-packages (from datasets>=2.0.0->evaluate<0.4.0,>=0.2.2->autogluon.multimodal==0.8.2->autogluon) (11.0.0)\n",
      "Requirement already satisfied: beautifulsoup4 in c:\\users\\user\\miniconda3\\envs\\py\\lib\\site-packages (from gdown>=4.0.0->nlpaug<1.2.0,>=1.1.10->autogluon.multimodal==0.8.2->autogluon) (4.11.1)\n",
      "Requirement already satisfied: rsa<5,>=3.1.4 in c:\\users\\user\\miniconda3\\envs\\py\\lib\\site-packages (from google-auth<3,>=1.6.3->tensorboard<3,>=2.9->autogluon.multimodal==0.8.2->autogluon) (4.7.2)\n",
      "Requirement already satisfied: pyasn1-modules>=0.2.1 in c:\\users\\user\\miniconda3\\envs\\py\\lib\\site-packages (from google-auth<3,>=1.6.3->tensorboard<3,>=2.9->autogluon.multimodal==0.8.2->autogluon) (0.2.8)\n",
      "Requirement already satisfied: cachetools<6.0,>=2.0.0 in c:\\users\\user\\miniconda3\\envs\\py\\lib\\site-packages (from google-auth<3,>=1.6.3->tensorboard<3,>=2.9->autogluon.multimodal==0.8.2->autogluon) (5.3.0)\n",
      "Requirement already satisfied: requests-oauthlib>=0.7.0 in c:\\users\\user\\miniconda3\\envs\\py\\lib\\site-packages (from google-auth-oauthlib<1.1,>=0.5->tensorboard<3,>=2.9->autogluon.multimodal==0.8.2->autogluon) (1.3.1)\n",
      "Requirement already satisfied: nvidia-ml-py>=11.450.129 in c:\\users\\user\\miniconda3\\envs\\py\\lib\\site-packages (from gpustat>=1.0.0->ray[default]<2.4,>=2.3->autogluon.core[all]==0.8.2->autogluon) (12.535.108)\n",
      "Requirement already satisfied: blessed>=1.17.1 in c:\\users\\user\\miniconda3\\envs\\py\\lib\\site-packages (from gpustat>=1.0.0->ray[default]<2.4,>=2.3->autogluon.core[all]==0.8.2->autogluon) (1.20.0)\n",
      "Requirement already satisfied: llvmlite<0.41,>=0.40.0dev0 in c:\\users\\user\\miniconda3\\envs\\py\\lib\\site-packages (from numba->mlforecast<0.7.4,>=0.7.0->autogluon.timeseries[all]==0.8.2->autogluon) (0.40.0)\n",
      "Requirement already satisfied: spacy-loggers<2.0.0,>=1.0.0 in c:\\users\\user\\miniconda3\\envs\\py\\lib\\site-packages (from spacy<4->fastai<2.8,>=2.3.1->autogluon.tabular[all]==0.8.2->autogluon) (1.0.5)\n",
      "Collecting pathy>=0.10.0\n",
      "  Using cached pathy-0.10.2-py3-none-any.whl (48 kB)\n",
      "Requirement already satisfied: srsly<3.0.0,>=2.4.3 in c:\\users\\user\\miniconda3\\envs\\py\\lib\\site-packages (from spacy<4->fastai<2.8,>=2.3.1->autogluon.tabular[all]==0.8.2->autogluon) (2.4.8)\n",
      "Requirement already satisfied: catalogue<2.1.0,>=2.0.6 in c:\\users\\user\\miniconda3\\envs\\py\\lib\\site-packages (from spacy<4->fastai<2.8,>=2.3.1->autogluon.tabular[all]==0.8.2->autogluon) (2.0.10)\n",
      "Requirement already satisfied: typer<0.10.0,>=0.3.0 in c:\\users\\user\\miniconda3\\envs\\py\\lib\\site-packages (from spacy<4->fastai<2.8,>=2.3.1->autogluon.tabular[all]==0.8.2->autogluon) (0.9.0)\n",
      "Requirement already satisfied: langcodes<4.0.0,>=3.2.0 in c:\\users\\user\\miniconda3\\envs\\py\\lib\\site-packages (from spacy<4->fastai<2.8,>=2.3.1->autogluon.tabular[all]==0.8.2->autogluon) (3.3.0)\n",
      "Collecting thinc<8.2.0,>=8.1.8\n",
      "  Using cached thinc-8.1.12-cp310-cp310-win_amd64.whl (1.5 MB)\n",
      "Requirement already satisfied: cymem<2.1.0,>=2.0.2 in c:\\users\\user\\miniconda3\\envs\\py\\lib\\site-packages (from spacy<4->fastai<2.8,>=2.3.1->autogluon.tabular[all]==0.8.2->autogluon) (2.0.8)\n",
      "Requirement already satisfied: preshed<3.1.0,>=3.0.2 in c:\\users\\user\\miniconda3\\envs\\py\\lib\\site-packages (from spacy<4->fastai<2.8,>=2.3.1->autogluon.tabular[all]==0.8.2->autogluon) (3.0.9)\n",
      "Requirement already satisfied: spacy-legacy<3.1.0,>=3.0.11 in c:\\users\\user\\miniconda3\\envs\\py\\lib\\site-packages (from spacy<4->fastai<2.8,>=2.3.1->autogluon.tabular[all]==0.8.2->autogluon) (3.0.12)\n",
      "Requirement already satisfied: wasabi<1.2.0,>=0.9.1 in c:\\users\\user\\miniconda3\\envs\\py\\lib\\site-packages (from spacy<4->fastai<2.8,>=2.3.1->autogluon.tabular[all]==0.8.2->autogluon) (1.1.2)\n",
      "Requirement already satisfied: murmurhash<1.1.0,>=0.28.0 in c:\\users\\user\\miniconda3\\envs\\py\\lib\\site-packages (from spacy<4->fastai<2.8,>=2.3.1->autogluon.tabular[all]==0.8.2->autogluon) (1.0.10)\n",
      "Requirement already satisfied: platformdirs<4,>=3.9.1 in c:\\users\\user\\miniconda3\\envs\\py\\lib\\site-packages (from virtualenv>=20.0.24->ray[default]<2.4,>=2.3->autogluon.core[all]==0.8.2->autogluon) (3.10.0)\n",
      "Requirement already satisfied: distlib<1,>=0.3.7 in c:\\users\\user\\miniconda3\\envs\\py\\lib\\site-packages (from virtualenv>=20.0.24->ray[default]<2.4,>=2.3->autogluon.core[all]==0.8.2->autogluon) (0.3.7)\n",
      "Requirement already satisfied: ordered-set in c:\\users\\user\\miniconda3\\envs\\py\\lib\\site-packages (from model-index->openmim<0.4.0,>=0.3.7->autogluon.multimodal==0.8.2->autogluon) (4.1.0)\n",
      "Requirement already satisfied: opencensus-context>=0.1.3 in c:\\users\\user\\miniconda3\\envs\\py\\lib\\site-packages (from opencensus->ray[default]<2.4,>=2.3->autogluon.core[all]==0.8.2->autogluon) (0.1.3)\n",
      "Collecting google-api-core<3.0.0,>=1.0.0\n",
      "  Using cached google_api_core-2.12.0-py3-none-any.whl (121 kB)\n",
      "Collecting openxlab\n",
      "  Using cached openxlab-0.0.26-py3-none-any.whl (295 kB)\n",
      "Requirement already satisfied: pywin32 in c:\\users\\user\\miniconda3\\envs\\py\\lib\\site-packages (from opendatalab->openmim<0.4.0,>=0.3.7->autogluon.multimodal==0.8.2->autogluon) (305.1)\n",
      "Requirement already satisfied: pycryptodome in c:\\users\\user\\miniconda3\\envs\\py\\lib\\site-packages (from opendatalab->openmim<0.4.0,>=0.3.7->autogluon.multimodal==0.8.2->autogluon) (3.19.0)\n",
      "Requirement already satisfied: tenacity>=6.2.0 in c:\\users\\user\\miniconda3\\envs\\py\\lib\\site-packages (from plotly->catboost<1.3,>=1.1->autogluon.tabular[all]==0.8.2->autogluon) (8.2.3)\n",
      "Requirement already satisfied: markdown-it-py>=2.2.0 in c:\\users\\user\\miniconda3\\envs\\py\\lib\\site-packages (from rich->openmim<0.4.0,>=0.3.7->autogluon.multimodal==0.8.2->autogluon) (3.0.0)\n",
      "Requirement already satisfied: pygments<3.0.0,>=2.13.0 in c:\\users\\user\\miniconda3\\envs\\py\\lib\\site-packages (from rich->openmim<0.4.0,>=0.3.7->autogluon.multimodal==0.8.2->autogluon) (2.16.1)\n",
      "Requirement already satisfied: jinxed>=1.1.0 in c:\\users\\user\\miniconda3\\envs\\py\\lib\\site-packages (from blessed>=1.17.1->gpustat>=1.0.0->ray[default]<2.4,>=2.3->autogluon.core[all]==0.8.2->autogluon) (1.2.0)\n",
      "Requirement already satisfied: wcwidth>=0.1.4 in c:\\users\\user\\miniconda3\\envs\\py\\lib\\site-packages (from blessed>=1.17.1->gpustat>=1.0.0->ray[default]<2.4,>=2.3->autogluon.core[all]==0.8.2->autogluon) (0.2.5)\n",
      "Requirement already satisfied: googleapis-common-protos<2.0.dev0,>=1.56.2 in c:\\users\\user\\miniconda3\\envs\\py\\lib\\site-packages (from google-api-core<3.0.0,>=1.0.0->opencensus->ray[default]<2.4,>=2.3->autogluon.core[all]==0.8.2->autogluon) (1.60.0)\n",
      "Requirement already satisfied: mdurl~=0.1 in c:\\users\\user\\miniconda3\\envs\\py\\lib\\site-packages (from markdown-it-py>=2.2.0->rich->openmim<0.4.0,>=0.3.7->autogluon.multimodal==0.8.2->autogluon) (0.1.2)\n",
      "Requirement already satisfied: pyasn1<0.5.0,>=0.4.6 in c:\\users\\user\\miniconda3\\envs\\py\\lib\\site-packages (from pyasn1-modules>=0.2.1->google-auth<3,>=1.6.3->tensorboard<3,>=2.9->autogluon.multimodal==0.8.2->autogluon) (0.4.8)\n",
      "Requirement already satisfied: oauthlib>=3.0.0 in c:\\users\\user\\miniconda3\\envs\\py\\lib\\site-packages (from requests-oauthlib>=0.7.0->google-auth-oauthlib<1.1,>=0.5->tensorboard<3,>=2.9->autogluon.multimodal==0.8.2->autogluon) (3.2.2)\n",
      "Requirement already satisfied: blis<0.8.0,>=0.7.8 in c:\\users\\user\\miniconda3\\envs\\py\\lib\\site-packages (from thinc<8.2.0,>=8.1.8->spacy<4->fastai<2.8,>=2.3.1->autogluon.tabular[all]==0.8.2->autogluon) (0.7.11)\n",
      "Collecting confection<1.0.0,>=0.0.1\n",
      "  Using cached confection-0.1.3-py3-none-any.whl (34 kB)\n",
      "Requirement already satisfied: soupsieve>1.2 in c:\\users\\user\\miniconda3\\envs\\py\\lib\\site-packages (from beautifulsoup4->gdown>=4.0.0->nlpaug<1.2.0,>=1.1.10->autogluon.multimodal==0.8.2->autogluon) (2.3.2.post1)\n",
      "Collecting oss2~=2.17.0\n",
      "  Using cached oss2-2.17.0-py3-none-any.whl\n",
      "Requirement already satisfied: PySocks!=1.5.7,>=1.5.6 in c:\\users\\user\\miniconda3\\envs\\py\\lib\\site-packages (from requests->autogluon.core[all]==0.8.2->autogluon) (1.7.1)\n",
      "Requirement already satisfied: ansicon in c:\\users\\user\\miniconda3\\envs\\py\\lib\\site-packages (from jinxed>=1.1.0->blessed>=1.17.1->gpustat>=1.0.0->ray[default]<2.4,>=2.3->autogluon.core[all]==0.8.2->autogluon) (1.89.0)\n",
      "Collecting aliyun-python-sdk-kms>=2.4.1\n",
      "  Using cached aliyun_python_sdk_kms-2.16.2-py2.py3-none-any.whl (94 kB)\n",
      "Requirement already satisfied: crcmod>=1.7 in c:\\users\\user\\miniconda3\\envs\\py\\lib\\site-packages (from oss2~=2.17.0->openxlab->opendatalab->openmim<0.4.0,>=0.3.7->autogluon.multimodal==0.8.2->autogluon) (1.7)\n",
      "Collecting aliyun-python-sdk-core>=2.13.12\n",
      "  Using cached aliyun_python_sdk_core-2.14.0-py3-none-any.whl\n",
      "Requirement already satisfied: cryptography>=2.6.0 in c:\\users\\user\\miniconda3\\envs\\py\\lib\\site-packages (from aliyun-python-sdk-core>=2.13.12->oss2~=2.17.0->openxlab->opendatalab->openmim<0.4.0,>=0.3.7->autogluon.multimodal==0.8.2->autogluon) (38.0.1)\n",
      "Requirement already satisfied: cffi>=1.12 in c:\\users\\user\\miniconda3\\envs\\py\\lib\\site-packages (from cryptography>=2.6.0->aliyun-python-sdk-core>=2.13.12->oss2~=2.17.0->openxlab->opendatalab->openmim<0.4.0,>=0.3.7->autogluon.multimodal==0.8.2->autogluon) (1.15.1)\n",
      "Requirement already satisfied: pycparser in c:\\users\\user\\miniconda3\\envs\\py\\lib\\site-packages (from cffi>=1.12->cryptography>=2.6.0->aliyun-python-sdk-core>=2.13.12->oss2~=2.17.0->openxlab->opendatalab->openmim<0.4.0,>=0.3.7->autogluon.multimodal==0.8.2->autogluon) (2.21)\n",
      "Installing collected packages: ray, model-index, hyperopt, confection, timm, thinc, pytorch-metric-learning, pathy, mlforecast, gpustat, google-api-core, gluonts, gdown, catboost, aliyun-python-sdk-core, aiohttp-cors, statsforecast, spacy, pytorch-lightning, opencensus, nlpaug, aliyun-python-sdk-kms, oss2, fastai, evaluate, autogluon.common, openxlab, autogluon.features, autogluon.core, opendatalab, autogluon.tabular, openmim, autogluon.timeseries, autogluon.multimodal, autogluon\n",
      "Successfully installed aiohttp-cors-0.7.0 aliyun-python-sdk-core-2.14.0 aliyun-python-sdk-kms-2.16.2 autogluon-0.8.2 autogluon.common-0.8.2 autogluon.core-0.8.2 autogluon.features-0.8.2 autogluon.multimodal-0.8.2 autogluon.tabular-0.8.2 autogluon.timeseries-0.8.2 catboost-1.2.2 confection-0.1.3 evaluate-0.3.0 fastai-2.7.12 gdown-4.7.1 gluonts-0.13.5 google-api-core-2.12.0 gpustat-1.1.1 hyperopt-0.2.7 mlforecast-0.7.3 model-index-0.1.11 nlpaug-1.1.11 opencensus-0.11.3 opendatalab-0.0.10 openmim-0.3.9 openxlab-0.0.26 oss2-2.17.0 pathy-0.10.2 pytorch-lightning-1.9.5 pytorch-metric-learning-1.7.3 ray-2.3.1 spacy-3.6.1 statsforecast-1.4.0 thinc-8.1.12 timm-0.9.7\n"
     ]
    },
    {
     "name": "stderr",
     "output_type": "stream",
     "text": [
      "WARNING: Ignoring invalid distribution -rotobuf (c:\\users\\user\\miniconda3\\envs\\py\\lib\\site-packages)\n",
      "WARNING: Ignoring invalid distribution - (c:\\users\\user\\miniconda3\\envs\\py\\lib\\site-packages)\n",
      "WARNING: Ignoring invalid distribution -ensorflow-intel (c:\\users\\user\\miniconda3\\envs\\py\\lib\\site-packages)\n",
      "WARNING: Ignoring invalid distribution -rotobuf (c:\\users\\user\\miniconda3\\envs\\py\\lib\\site-packages)\n",
      "WARNING: Ignoring invalid distribution - (c:\\users\\user\\miniconda3\\envs\\py\\lib\\site-packages)\n",
      "WARNING: Ignoring invalid distribution -ensorflow-intel (c:\\users\\user\\miniconda3\\envs\\py\\lib\\site-packages)\n",
      "WARNING: Ignoring invalid distribution -rotobuf (c:\\users\\user\\miniconda3\\envs\\py\\lib\\site-packages)\n",
      "WARNING: Ignoring invalid distribution - (c:\\users\\user\\miniconda3\\envs\\py\\lib\\site-packages)\n",
      "WARNING: Ignoring invalid distribution -ensorflow-intel (c:\\users\\user\\miniconda3\\envs\\py\\lib\\site-packages)\n",
      "WARNING: Ignoring invalid distribution -rotobuf (c:\\users\\user\\miniconda3\\envs\\py\\lib\\site-packages)\n",
      "WARNING: Ignoring invalid distribution - (c:\\users\\user\\miniconda3\\envs\\py\\lib\\site-packages)\n",
      "WARNING: Ignoring invalid distribution -ensorflow-intel (c:\\users\\user\\miniconda3\\envs\\py\\lib\\site-packages)\n",
      "WARNING: Ignoring invalid distribution -rotobuf (c:\\users\\user\\miniconda3\\envs\\py\\lib\\site-packages)\n",
      "WARNING: Ignoring invalid distribution - (c:\\users\\user\\miniconda3\\envs\\py\\lib\\site-packages)\n",
      "WARNING: Ignoring invalid distribution -ensorflow-intel (c:\\users\\user\\miniconda3\\envs\\py\\lib\\site-packages)\n",
      "WARNING: Ignoring invalid distribution -rotobuf (c:\\users\\user\\miniconda3\\envs\\py\\lib\\site-packages)\n",
      "WARNING: Ignoring invalid distribution - (c:\\users\\user\\miniconda3\\envs\\py\\lib\\site-packages)\n",
      "WARNING: Ignoring invalid distribution -ensorflow-intel (c:\\users\\user\\miniconda3\\envs\\py\\lib\\site-packages)\n",
      "WARNING: Ignoring invalid distribution -rotobuf (c:\\users\\user\\miniconda3\\envs\\py\\lib\\site-packages)\n",
      "WARNING: Ignoring invalid distribution - (c:\\users\\user\\miniconda3\\envs\\py\\lib\\site-packages)\n",
      "WARNING: Ignoring invalid distribution -ensorflow-intel (c:\\users\\user\\miniconda3\\envs\\py\\lib\\site-packages)\n",
      "WARNING: Ignoring invalid distribution -rotobuf (c:\\users\\user\\miniconda3\\envs\\py\\lib\\site-packages)\n",
      "WARNING: Ignoring invalid distribution - (c:\\users\\user\\miniconda3\\envs\\py\\lib\\site-packages)\n",
      "WARNING: Ignoring invalid distribution -ensorflow-intel (c:\\users\\user\\miniconda3\\envs\\py\\lib\\site-packages)\n",
      "WARNING: Ignoring invalid distribution -rotobuf (c:\\users\\user\\miniconda3\\envs\\py\\lib\\site-packages)\n",
      "WARNING: Ignoring invalid distribution - (c:\\users\\user\\miniconda3\\envs\\py\\lib\\site-packages)\n",
      "WARNING: Ignoring invalid distribution -ensorflow-intel (c:\\users\\user\\miniconda3\\envs\\py\\lib\\site-packages)\n",
      "WARNING: Ignoring invalid distribution -rotobuf (c:\\users\\user\\miniconda3\\envs\\py\\lib\\site-packages)\n",
      "WARNING: Ignoring invalid distribution - (c:\\users\\user\\miniconda3\\envs\\py\\lib\\site-packages)\n",
      "WARNING: Ignoring invalid distribution -ensorflow-intel (c:\\users\\user\\miniconda3\\envs\\py\\lib\\site-packages)\n",
      "WARNING: Ignoring invalid distribution -rotobuf (c:\\users\\user\\miniconda3\\envs\\py\\lib\\site-packages)\n",
      "WARNING: Ignoring invalid distribution - (c:\\users\\user\\miniconda3\\envs\\py\\lib\\site-packages)\n",
      "WARNING: Ignoring invalid distribution -ensorflow-intel (c:\\users\\user\\miniconda3\\envs\\py\\lib\\site-packages)\n",
      "WARNING: Ignoring invalid distribution -rotobuf (c:\\users\\user\\miniconda3\\envs\\py\\lib\\site-packages)\n",
      "WARNING: Ignoring invalid distribution - (c:\\users\\user\\miniconda3\\envs\\py\\lib\\site-packages)\n",
      "WARNING: Ignoring invalid distribution -ensorflow-intel (c:\\users\\user\\miniconda3\\envs\\py\\lib\\site-packages)\n",
      "WARNING: Ignoring invalid distribution -rotobuf (c:\\users\\user\\miniconda3\\envs\\py\\lib\\site-packages)\n",
      "WARNING: Ignoring invalid distribution - (c:\\users\\user\\miniconda3\\envs\\py\\lib\\site-packages)\n",
      "WARNING: Ignoring invalid distribution -ensorflow-intel (c:\\users\\user\\miniconda3\\envs\\py\\lib\\site-packages)\n",
      "WARNING: Ignoring invalid distribution -rotobuf (c:\\users\\user\\miniconda3\\envs\\py\\lib\\site-packages)\n",
      "WARNING: Ignoring invalid distribution - (c:\\users\\user\\miniconda3\\envs\\py\\lib\\site-packages)\n",
      "WARNING: Ignoring invalid distribution -ensorflow-intel (c:\\users\\user\\miniconda3\\envs\\py\\lib\\site-packages)\n",
      "WARNING: Ignoring invalid distribution -rotobuf (c:\\users\\user\\miniconda3\\envs\\py\\lib\\site-packages)\n",
      "WARNING: Ignoring invalid distribution - (c:\\users\\user\\miniconda3\\envs\\py\\lib\\site-packages)\n",
      "WARNING: Ignoring invalid distribution -ensorflow-intel (c:\\users\\user\\miniconda3\\envs\\py\\lib\\site-packages)\n",
      "WARNING: Ignoring invalid distribution -rotobuf (c:\\users\\user\\miniconda3\\envs\\py\\lib\\site-packages)\n",
      "WARNING: Ignoring invalid distribution - (c:\\users\\user\\miniconda3\\envs\\py\\lib\\site-packages)\n",
      "WARNING: Ignoring invalid distribution -ensorflow-intel (c:\\users\\user\\miniconda3\\envs\\py\\lib\\site-packages)\n",
      "WARNING: Ignoring invalid distribution -rotobuf (c:\\users\\user\\miniconda3\\envs\\py\\lib\\site-packages)\n",
      "WARNING: Ignoring invalid distribution - (c:\\users\\user\\miniconda3\\envs\\py\\lib\\site-packages)\n",
      "WARNING: Ignoring invalid distribution -ensorflow-intel (c:\\users\\user\\miniconda3\\envs\\py\\lib\\site-packages)\n",
      "WARNING: Ignoring invalid distribution -rotobuf (c:\\users\\user\\miniconda3\\envs\\py\\lib\\site-packages)\n",
      "WARNING: Ignoring invalid distribution - (c:\\users\\user\\miniconda3\\envs\\py\\lib\\site-packages)\n",
      "WARNING: Ignoring invalid distribution -ensorflow-intel (c:\\users\\user\\miniconda3\\envs\\py\\lib\\site-packages)\n",
      "WARNING: Ignoring invalid distribution -rotobuf (c:\\users\\user\\miniconda3\\envs\\py\\lib\\site-packages)\n",
      "WARNING: Ignoring invalid distribution - (c:\\users\\user\\miniconda3\\envs\\py\\lib\\site-packages)\n",
      "WARNING: Ignoring invalid distribution -ensorflow-intel (c:\\users\\user\\miniconda3\\envs\\py\\lib\\site-packages)\n",
      "WARNING: Ignoring invalid distribution -rotobuf (c:\\users\\user\\miniconda3\\envs\\py\\lib\\site-packages)\n",
      "WARNING: Ignoring invalid distribution - (c:\\users\\user\\miniconda3\\envs\\py\\lib\\site-packages)\n",
      "WARNING: Ignoring invalid distribution -ensorflow-intel (c:\\users\\user\\miniconda3\\envs\\py\\lib\\site-packages)\n",
      "WARNING: Ignoring invalid distribution -rotobuf (c:\\users\\user\\miniconda3\\envs\\py\\lib\\site-packages)\n",
      "WARNING: Ignoring invalid distribution - (c:\\users\\user\\miniconda3\\envs\\py\\lib\\site-packages)\n",
      "WARNING: Ignoring invalid distribution -ensorflow-intel (c:\\users\\user\\miniconda3\\envs\\py\\lib\\site-packages)\n",
      "WARNING: Ignoring invalid distribution -rotobuf (c:\\users\\user\\miniconda3\\envs\\py\\lib\\site-packages)\n",
      "WARNING: Ignoring invalid distribution - (c:\\users\\user\\miniconda3\\envs\\py\\lib\\site-packages)\n",
      "WARNING: Ignoring invalid distribution -ensorflow-intel (c:\\users\\user\\miniconda3\\envs\\py\\lib\\site-packages)\n",
      "WARNING: Ignoring invalid distribution -rotobuf (c:\\users\\user\\miniconda3\\envs\\py\\lib\\site-packages)\n",
      "WARNING: Ignoring invalid distribution - (c:\\users\\user\\miniconda3\\envs\\py\\lib\\site-packages)\n",
      "WARNING: Ignoring invalid distribution -ensorflow-intel (c:\\users\\user\\miniconda3\\envs\\py\\lib\\site-packages)\n",
      "WARNING: Ignoring invalid distribution -rotobuf (c:\\users\\user\\miniconda3\\envs\\py\\lib\\site-packages)\n",
      "WARNING: Ignoring invalid distribution - (c:\\users\\user\\miniconda3\\envs\\py\\lib\\site-packages)\n",
      "WARNING: Ignoring invalid distribution -ensorflow-intel (c:\\users\\user\\miniconda3\\envs\\py\\lib\\site-packages)\n",
      "WARNING: Ignoring invalid distribution -rotobuf (c:\\users\\user\\miniconda3\\envs\\py\\lib\\site-packages)\n",
      "WARNING: Ignoring invalid distribution - (c:\\users\\user\\miniconda3\\envs\\py\\lib\\site-packages)\n",
      "WARNING: Ignoring invalid distribution -ensorflow-intel (c:\\users\\user\\miniconda3\\envs\\py\\lib\\site-packages)\n",
      "WARNING: Ignoring invalid distribution -rotobuf (c:\\users\\user\\miniconda3\\envs\\py\\lib\\site-packages)\n",
      "WARNING: Ignoring invalid distribution - (c:\\users\\user\\miniconda3\\envs\\py\\lib\\site-packages)\n",
      "WARNING: Ignoring invalid distribution -ensorflow-intel (c:\\users\\user\\miniconda3\\envs\\py\\lib\\site-packages)\n",
      "WARNING: Ignoring invalid distribution -rotobuf (c:\\users\\user\\miniconda3\\envs\\py\\lib\\site-packages)\n",
      "WARNING: Ignoring invalid distribution - (c:\\users\\user\\miniconda3\\envs\\py\\lib\\site-packages)\n",
      "WARNING: Ignoring invalid distribution -ensorflow-intel (c:\\users\\user\\miniconda3\\envs\\py\\lib\\site-packages)\n",
      "WARNING: Ignoring invalid distribution -rotobuf (c:\\users\\user\\miniconda3\\envs\\py\\lib\\site-packages)\n",
      "WARNING: Ignoring invalid distribution - (c:\\users\\user\\miniconda3\\envs\\py\\lib\\site-packages)\n",
      "WARNING: Ignoring invalid distribution -ensorflow-intel (c:\\users\\user\\miniconda3\\envs\\py\\lib\\site-packages)\n",
      "WARNING: Ignoring invalid distribution -rotobuf (c:\\users\\user\\miniconda3\\envs\\py\\lib\\site-packages)\n",
      "WARNING: Ignoring invalid distribution - (c:\\users\\user\\miniconda3\\envs\\py\\lib\\site-packages)\n",
      "WARNING: Ignoring invalid distribution -ensorflow-intel (c:\\users\\user\\miniconda3\\envs\\py\\lib\\site-packages)\n",
      "WARNING: Ignoring invalid distribution -rotobuf (c:\\users\\user\\miniconda3\\envs\\py\\lib\\site-packages)\n",
      "WARNING: Ignoring invalid distribution - (c:\\users\\user\\miniconda3\\envs\\py\\lib\\site-packages)\n",
      "WARNING: Ignoring invalid distribution -ensorflow-intel (c:\\users\\user\\miniconda3\\envs\\py\\lib\\site-packages)\n",
      "WARNING: Ignoring invalid distribution -rotobuf (c:\\users\\user\\miniconda3\\envs\\py\\lib\\site-packages)\n",
      "WARNING: Ignoring invalid distribution - (c:\\users\\user\\miniconda3\\envs\\py\\lib\\site-packages)\n",
      "WARNING: Ignoring invalid distribution -ensorflow-intel (c:\\users\\user\\miniconda3\\envs\\py\\lib\\site-packages)\n",
      "WARNING: Ignoring invalid distribution -rotobuf (c:\\users\\user\\miniconda3\\envs\\py\\lib\\site-packages)\n",
      "WARNING: Ignoring invalid distribution - (c:\\users\\user\\miniconda3\\envs\\py\\lib\\site-packages)\n",
      "WARNING: Ignoring invalid distribution -ensorflow-intel (c:\\users\\user\\miniconda3\\envs\\py\\lib\\site-packages)\n",
      "WARNING: Ignoring invalid distribution -rotobuf (c:\\users\\user\\miniconda3\\envs\\py\\lib\\site-packages)\n",
      "WARNING: Ignoring invalid distribution - (c:\\users\\user\\miniconda3\\envs\\py\\lib\\site-packages)\n",
      "WARNING: Ignoring invalid distribution -ensorflow-intel (c:\\users\\user\\miniconda3\\envs\\py\\lib\\site-packages)\n",
      "WARNING: Ignoring invalid distribution -rotobuf (c:\\users\\user\\miniconda3\\envs\\py\\lib\\site-packages)\n",
      "WARNING: Ignoring invalid distribution - (c:\\users\\user\\miniconda3\\envs\\py\\lib\\site-packages)\n",
      "WARNING: Ignoring invalid distribution -ensorflow-intel (c:\\users\\user\\miniconda3\\envs\\py\\lib\\site-packages)\n",
      "WARNING: Ignoring invalid distribution -rotobuf (c:\\users\\user\\miniconda3\\envs\\py\\lib\\site-packages)\n",
      "WARNING: Ignoring invalid distribution - (c:\\users\\user\\miniconda3\\envs\\py\\lib\\site-packages)\n",
      "WARNING: Ignoring invalid distribution -ensorflow-intel (c:\\users\\user\\miniconda3\\envs\\py\\lib\\site-packages)\n",
      "WARNING: Ignoring invalid distribution -rotobuf (c:\\users\\user\\miniconda3\\envs\\py\\lib\\site-packages)\n",
      "WARNING: Ignoring invalid distribution - (c:\\users\\user\\miniconda3\\envs\\py\\lib\\site-packages)\n",
      "WARNING: Ignoring invalid distribution -ensorflow-intel (c:\\users\\user\\miniconda3\\envs\\py\\lib\\site-packages)\n",
      "WARNING: Ignoring invalid distribution -rotobuf (c:\\users\\user\\miniconda3\\envs\\py\\lib\\site-packages)\n",
      "WARNING: Ignoring invalid distribution - (c:\\users\\user\\miniconda3\\envs\\py\\lib\\site-packages)\n",
      "WARNING: Ignoring invalid distribution -ensorflow-intel (c:\\users\\user\\miniconda3\\envs\\py\\lib\\site-packages)\n",
      "WARNING: Ignoring invalid distribution -rotobuf (c:\\users\\user\\miniconda3\\envs\\py\\lib\\site-packages)\n",
      "WARNING: Ignoring invalid distribution - (c:\\users\\user\\miniconda3\\envs\\py\\lib\\site-packages)\n",
      "WARNING: Ignoring invalid distribution -ensorflow-intel (c:\\users\\user\\miniconda3\\envs\\py\\lib\\site-packages)\n",
      "WARNING: Ignoring invalid distribution -rotobuf (c:\\users\\user\\miniconda3\\envs\\py\\lib\\site-packages)\n",
      "WARNING: Ignoring invalid distribution - (c:\\users\\user\\miniconda3\\envs\\py\\lib\\site-packages)\n",
      "WARNING: Ignoring invalid distribution -ensorflow-intel (c:\\users\\user\\miniconda3\\envs\\py\\lib\\site-packages)\n",
      "WARNING: Ignoring invalid distribution -rotobuf (c:\\users\\user\\miniconda3\\envs\\py\\lib\\site-packages)\n",
      "WARNING: Ignoring invalid distribution - (c:\\users\\user\\miniconda3\\envs\\py\\lib\\site-packages)\n",
      "WARNING: Ignoring invalid distribution -ensorflow-intel (c:\\users\\user\\miniconda3\\envs\\py\\lib\\site-packages)\n",
      "WARNING: Ignoring invalid distribution -rotobuf (c:\\users\\user\\miniconda3\\envs\\py\\lib\\site-packages)\n",
      "WARNING: Ignoring invalid distribution - (c:\\users\\user\\miniconda3\\envs\\py\\lib\\site-packages)\n",
      "WARNING: Ignoring invalid distribution -ensorflow-intel (c:\\users\\user\\miniconda3\\envs\\py\\lib\\site-packages)\n"
     ]
    }
   ],
   "source": [
    "!pip install autogluon"
   ]
  },
  {
   "cell_type": "code",
   "execution_count": 4,
   "id": "f94acf6c-39d7-4f34-b0e8-988b2ee043be",
   "metadata": {},
   "outputs": [
    {
     "name": "stderr",
     "output_type": "stream",
     "text": [
      "C:\\Users\\user\\miniconda3\\envs\\py\\lib\\site-packages\\tqdm\\auto.py:21: TqdmWarning: IProgress not found. Please update jupyter and ipywidgets. See https://ipywidgets.readthedocs.io/en/stable/user_install.html\n",
      "  from .autonotebook import tqdm as notebook_tqdm\n"
     ]
    }
   ],
   "source": [
    "from autogluon.tabular import TabularDataset, TabularPredictor"
   ]
  },
  {
   "cell_type": "code",
   "execution_count": 5,
   "id": "fc4a1afa-7533-4872-82fb-af24c5187e87",
   "metadata": {},
   "outputs": [
    {
     "name": "stderr",
     "output_type": "stream",
     "text": [
      "Presets specified: ['best_quality']\n",
      "Stack configuration (auto_stack=True): num_stack_levels=1, num_bag_folds=8, num_bag_sets=20\n",
      "Beginning AutoGluon training ... Time limit = 600s\n",
      "AutoGluon will save models to \"automodel\\\"\n",
      "AutoGluon Version:  0.8.2\n",
      "Python Version:     3.10.8\n",
      "Operating System:   Windows\n",
      "Platform Machine:   AMD64\n",
      "Platform Version:   10.0.22621\n",
      "Disk Space Avail:   165.51 GB / 510.77 GB (32.4%)\n",
      "Train Data Rows:    367441\n",
      "Train Data Columns: 30\n",
      "Label Column: CI_HOUR\n",
      "Preprocessing data ...\n",
      "Using Feature Generators to preprocess the data ...\n",
      "Fitting AutoMLPipelineFeatureGenerator...\n",
      "\tAvailable Memory:                    3471.49 MB\n",
      "\tTrain Data (Original)  Memory Usage: 79.37 MB (2.3% of available memory)\n",
      "\tInferring data type of each feature based on column values. Set feature_metadata_in to manually specify special dtypes of the features.\n",
      "\tStage 1 Generators:\n",
      "\t\tFitting AsTypeFeatureGenerator...\n",
      "\tStage 2 Generators:\n",
      "\t\tFitting FillNaFeatureGenerator...\n",
      "\tStage 3 Generators:\n",
      "\t\tFitting IdentityFeatureGenerator...\n",
      "\tStage 4 Generators:\n",
      "\t\tFitting DropUniqueFeatureGenerator...\n",
      "\tStage 5 Generators:\n",
      "\t\tFitting DropDuplicatesFeatureGenerator...\n",
      "\tTypes of features in original data (raw dtype, special dtypes):\n",
      "\t\t('float', []) : 14 | ['DIST', 'BREADTH', 'DEPTH', 'DRAUGHT', 'LENGTH', ...]\n",
      "\t\t('int', [])   : 16 | ['ARI_CO', 'ARI_PO', 'SHIP_TYPE_CATEGORY', 'ID', 'BUILT', ...]\n",
      "\tTypes of features in processed data (raw dtype, special dtypes):\n",
      "\t\t('float', []) : 14 | ['DIST', 'BREADTH', 'DEPTH', 'DRAUGHT', 'LENGTH', ...]\n",
      "\t\t('int', [])   : 16 | ['ARI_CO', 'ARI_PO', 'SHIP_TYPE_CATEGORY', 'ID', 'BUILT', ...]\n",
      "\t1.2s = Fit runtime\n",
      "\t30 features in original data used to generate 30 features in processed data.\n",
      "\tTrain Data (Processed) Memory Usage: 79.37 MB (2.3% of available memory)\n",
      "Data preprocessing and feature engineering runtime = 1.38s ...\n",
      "AutoGluon will gauge predictive performance using evaluation metric: 'mean_absolute_error'\n",
      "\tThis metric's sign has been flipped to adhere to being higher_is_better. The metric score can be multiplied by -1 to get the metric value.\n",
      "\tTo change this, specify the eval_metric parameter of Predictor()\n",
      "User-specified model hyperparameters to be fit:\n",
      "{\n",
      "\t'NN_TORCH': {},\n",
      "\t'GBM': [{'extra_trees': True, 'ag_args': {'name_suffix': 'XT'}}, {}, 'GBMLarge'],\n",
      "\t'CAT': {},\n",
      "\t'XGB': {},\n",
      "\t'FASTAI': {},\n",
      "\t'RF': [{'criterion': 'gini', 'ag_args': {'name_suffix': 'Gini', 'problem_types': ['binary', 'multiclass']}}, {'criterion': 'entropy', 'ag_args': {'name_suffix': 'Entr', 'problem_types': ['binary', 'multiclass']}}, {'criterion': 'squared_error', 'ag_args': {'name_suffix': 'MSE', 'problem_types': ['regression', 'quantile']}}],\n",
      "\t'XT': [{'criterion': 'gini', 'ag_args': {'name_suffix': 'Gini', 'problem_types': ['binary', 'multiclass']}}, {'criterion': 'entropy', 'ag_args': {'name_suffix': 'Entr', 'problem_types': ['binary', 'multiclass']}}, {'criterion': 'squared_error', 'ag_args': {'name_suffix': 'MSE', 'problem_types': ['regression', 'quantile']}}],\n",
      "\t'KNN': [{'weights': 'uniform', 'ag_args': {'name_suffix': 'Unif'}}, {'weights': 'distance', 'ag_args': {'name_suffix': 'Dist'}}],\n",
      "}\n",
      "AutoGluon will fit 2 stack levels (L1 to L2) ...\n",
      "Fitting 11 L1 models ...\n",
      "Fitting model: KNeighborsUnif_BAG_L1 ... Training model for up to 398.98s of the 598.62s of remaining time.\n",
      "\tWarning: Not enough memory to safely train model. Estimated to require 0.159 GB out of 3.328 GB available memory (23.851%)... (20.000% of avail memory is the max safe size)\n",
      "\tTo force training the model, specify the model hyperparameter \"ag.max_memory_usage_ratio\" to a larger value (currently 1.0, set to >=0.29 to avoid the error)\n",
      "\t\tTo set the same value for all models, do the following when calling predictor.fit: `predictor.fit(..., ag_args_fit={\"ag.max_memory_usage_ratio\": VALUE})`\n",
      "\tNot enough memory to train KNeighborsUnif_BAG_L1... Skipping this model.\n",
      "Fitting model: KNeighborsDist_BAG_L1 ... Training model for up to 397.09s of the 596.73s of remaining time.\n",
      "\tWarning: Not enough memory to safely train model. Estimated to require 0.159 GB out of 3.327 GB available memory (23.859%)... (20.000% of avail memory is the max safe size)\n",
      "\tTo force training the model, specify the model hyperparameter \"ag.max_memory_usage_ratio\" to a larger value (currently 1.0, set to >=0.29 to avoid the error)\n",
      "\t\tTo set the same value for all models, do the following when calling predictor.fit: `predictor.fit(..., ag_args_fit={\"ag.max_memory_usage_ratio\": VALUE})`\n",
      "\tNot enough memory to train KNeighborsDist_BAG_L1... Skipping this model.\n",
      "Fitting model: LightGBMXT_BAG_L1 ... Training model for up to 396.75s of the 596.39s of remaining time.\n",
      "\tMemory not enough to fit LGBModel folds in parallel. Will do sequential fitting instead. \tConsider decreasing folds trained in parallel by passing num_folds_parallel to ag_args_ensemble when calling predictor.fit\n",
      "\tFitting 8 child models (S1F1 - S1F8) | Fitting with SequentialLocalFoldFittingStrategy\n"
     ]
    },
    {
     "name": "stdout",
     "output_type": "stream",
     "text": [
      "[1000]\tvalid_set's l1: 53.8001\n",
      "[2000]\tvalid_set's l1: 51.0345\n",
      "[3000]\tvalid_set's l1: 49.2384\n",
      "[4000]\tvalid_set's l1: 47.7656\n",
      "[5000]\tvalid_set's l1: 46.6918\n"
     ]
    },
    {
     "name": "stderr",
     "output_type": "stream",
     "text": [
      "\tRan out of time, early stopping on iteration 5242. Best iteration is:\n",
      "\t[5242]\tvalid_set's l1: 46.5197\n"
     ]
    },
    {
     "name": "stdout",
     "output_type": "stream",
     "text": [
      "[1000]\tvalid_set's l1: 53.2308\n",
      "[2000]\tvalid_set's l1: 50.8454\n",
      "[3000]\tvalid_set's l1: 48.8834\n",
      "[4000]\tvalid_set's l1: 47.4115\n",
      "[5000]\tvalid_set's l1: 46.2512\n"
     ]
    },
    {
     "name": "stderr",
     "output_type": "stream",
     "text": [
      "\tRan out of time, early stopping on iteration 5366. Best iteration is:\n",
      "\t[5366]\tvalid_set's l1: 45.9405\n"
     ]
    },
    {
     "name": "stdout",
     "output_type": "stream",
     "text": [
      "[1000]\tvalid_set's l1: 53.6147\n",
      "[2000]\tvalid_set's l1: 51.0085\n",
      "[3000]\tvalid_set's l1: 49.0484\n",
      "[4000]\tvalid_set's l1: 47.4275\n",
      "[5000]\tvalid_set's l1: 46.3981\n"
     ]
    },
    {
     "name": "stderr",
     "output_type": "stream",
     "text": [
      "\tRan out of time, early stopping on iteration 5437. Best iteration is:\n",
      "\t[5437]\tvalid_set's l1: 45.9737\n"
     ]
    },
    {
     "name": "stdout",
     "output_type": "stream",
     "text": [
      "[1000]\tvalid_set's l1: 53.5056\n",
      "[2000]\tvalid_set's l1: 50.6571\n",
      "[3000]\tvalid_set's l1: 48.8563\n",
      "[4000]\tvalid_set's l1: 47.5435\n",
      "[5000]\tvalid_set's l1: 46.3855\n"
     ]
    },
    {
     "name": "stderr",
     "output_type": "stream",
     "text": [
      "\tRan out of time, early stopping on iteration 5524. Best iteration is:\n",
      "\t[5521]\tvalid_set's l1: 45.9303\n"
     ]
    },
    {
     "name": "stdout",
     "output_type": "stream",
     "text": [
      "[1000]\tvalid_set's l1: 52.3073\n",
      "[2000]\tvalid_set's l1: 49.9314\n",
      "[3000]\tvalid_set's l1: 48.0838\n",
      "[4000]\tvalid_set's l1: 46.7015\n",
      "[5000]\tvalid_set's l1: 45.6238\n"
     ]
    },
    {
     "name": "stderr",
     "output_type": "stream",
     "text": [
      "\tRan out of time, early stopping on iteration 5411. Best iteration is:\n",
      "\t[5410]\tvalid_set's l1: 45.2256\n"
     ]
    },
    {
     "name": "stdout",
     "output_type": "stream",
     "text": [
      "[1000]\tvalid_set's l1: 52.8485\n",
      "[2000]\tvalid_set's l1: 50.3994\n",
      "[3000]\tvalid_set's l1: 48.5282\n",
      "[4000]\tvalid_set's l1: 47.1111\n",
      "[5000]\tvalid_set's l1: 46.0842\n"
     ]
    },
    {
     "name": "stderr",
     "output_type": "stream",
     "text": [
      "\tRan out of time, early stopping on iteration 5472. Best iteration is:\n",
      "\t[5463]\tvalid_set's l1: 45.6713\n"
     ]
    },
    {
     "name": "stdout",
     "output_type": "stream",
     "text": [
      "[1000]\tvalid_set's l1: 53.2766\n",
      "[2000]\tvalid_set's l1: 50.9645\n",
      "[3000]\tvalid_set's l1: 49.258\n",
      "[4000]\tvalid_set's l1: 47.8948\n",
      "[5000]\tvalid_set's l1: 46.7531\n"
     ]
    },
    {
     "name": "stderr",
     "output_type": "stream",
     "text": [
      "\tRan out of time, early stopping on iteration 5812. Best iteration is:\n",
      "\t[5812]\tvalid_set's l1: 46.0382\n"
     ]
    },
    {
     "name": "stdout",
     "output_type": "stream",
     "text": [
      "[1000]\tvalid_set's l1: 53.0121\n",
      "[2000]\tvalid_set's l1: 50.5725\n",
      "[3000]\tvalid_set's l1: 48.7652\n",
      "[4000]\tvalid_set's l1: 47.4708\n",
      "[5000]\tvalid_set's l1: 46.3952\n",
      "[6000]\tvalid_set's l1: 45.5175\n"
     ]
    },
    {
     "name": "stderr",
     "output_type": "stream",
     "text": [
      "\tRan out of time, early stopping on iteration 6351. Best iteration is:\n",
      "\t[6351]\tvalid_set's l1: 45.2493\n",
      "\t-45.8186\t = Validation score   (-mean_absolute_error)\n",
      "\t345.03s\t = Training   runtime\n",
      "\t44.02s\t = Validation runtime\n",
      "Fitting model: LightGBM_BAG_L1 ... Training model for up to 3.98s of the 203.62s of remaining time.\n",
      "\tMemory not enough to fit LGBModel folds in parallel. Will do sequential fitting instead. \tConsider decreasing folds trained in parallel by passing num_folds_parallel to ag_args_ensemble when calling predictor.fit\n",
      "\tFitting 8 child models (S1F1 - S1F8) | Fitting with SequentialLocalFoldFittingStrategy\n",
      "\tRan out of time, early stopping on iteration 1. Best iteration is:\n",
      "\t[1]\tvalid_set's l1: 79.8982\n",
      "\tTime limit exceeded... Skipping LightGBM_BAG_L1.\n",
      "Fitting model: RandomForestMSE_BAG_L1 ... Training model for up to 2.75s of the 202.38s of remaining time.\n",
      "\tWarning: Reducing model 'n_estimators' from 300 -> 287 due to low memory. Expected memory usage reduced from 15.65% -> 15.0% of available memory...\n",
      "\tWarning: Model is expected to require 525.3s to train, which exceeds the maximum time limit of 2.7s, skipping model...\n",
      "\tTime limit exceeded... Skipping RandomForestMSE_BAG_L1.\n",
      "Completed 1/20 k-fold bagging repeats ...\n",
      "Fitting model: WeightedEnsemble_L2 ... Training model for up to 360.0s of the 194.53s of remaining time.\n",
      "\t-45.8186\t = Validation score   (-mean_absolute_error)\n",
      "\t0.01s\t = Training   runtime\n",
      "\t0.01s\t = Validation runtime\n",
      "Fitting 9 L2 models ...\n",
      "Fitting model: LightGBMXT_BAG_L2 ... Training model for up to 194.47s of the 194.38s of remaining time.\n",
      "\tMemory not enough to fit LGBModel folds in parallel. Will do sequential fitting instead. \tConsider decreasing folds trained in parallel by passing num_folds_parallel to ag_args_ensemble when calling predictor.fit\n",
      "\tFitting 8 child models (S1F1 - S1F8) | Fitting with SequentialLocalFoldFittingStrategy\n"
     ]
    },
    {
     "name": "stdout",
     "output_type": "stream",
     "text": [
      "[1000]\tvalid_set's l1: 39.2999\n",
      "[2000]\tvalid_set's l1: 38.8874\n"
     ]
    },
    {
     "name": "stderr",
     "output_type": "stream",
     "text": [
      "\tRan out of time, early stopping on iteration 2587. Best iteration is:\n",
      "\t[2587]\tvalid_set's l1: 38.7538\n"
     ]
    },
    {
     "name": "stdout",
     "output_type": "stream",
     "text": [
      "[1000]\tvalid_set's l1: 38.9131\n",
      "[2000]\tvalid_set's l1: 38.368\n"
     ]
    },
    {
     "name": "stderr",
     "output_type": "stream",
     "text": [
      "\tRan out of time, early stopping on iteration 2583. Best iteration is:\n",
      "\t[2573]\tvalid_set's l1: 38.196\n"
     ]
    },
    {
     "name": "stdout",
     "output_type": "stream",
     "text": [
      "[1000]\tvalid_set's l1: 39.2862\n",
      "[2000]\tvalid_set's l1: 38.7537\n"
     ]
    },
    {
     "name": "stderr",
     "output_type": "stream",
     "text": [
      "\tRan out of time, early stopping on iteration 2552. Best iteration is:\n",
      "\t[2548]\tvalid_set's l1: 38.6043\n"
     ]
    },
    {
     "name": "stdout",
     "output_type": "stream",
     "text": [
      "[1000]\tvalid_set's l1: 39.5885\n",
      "[2000]\tvalid_set's l1: 39.0983\n"
     ]
    },
    {
     "name": "stderr",
     "output_type": "stream",
     "text": [
      "\tRan out of time, early stopping on iteration 2650. Best iteration is:\n",
      "\t[2649]\tvalid_set's l1: 38.8766\n"
     ]
    },
    {
     "name": "stdout",
     "output_type": "stream",
     "text": [
      "[1000]\tvalid_set's l1: 38.776\n",
      "[2000]\tvalid_set's l1: 38.352\n"
     ]
    },
    {
     "name": "stderr",
     "output_type": "stream",
     "text": [
      "\tRan out of time, early stopping on iteration 2824. Best iteration is:\n",
      "\t[2818]\tvalid_set's l1: 38.1505\n"
     ]
    },
    {
     "name": "stdout",
     "output_type": "stream",
     "text": [
      "[1000]\tvalid_set's l1: 39.58\n",
      "[2000]\tvalid_set's l1: 39.114\n"
     ]
    },
    {
     "name": "stderr",
     "output_type": "stream",
     "text": [
      "\tRan out of time, early stopping on iteration 2901. Best iteration is:\n",
      "\t[2878]\tvalid_set's l1: 38.8078\n"
     ]
    },
    {
     "name": "stdout",
     "output_type": "stream",
     "text": [
      "[1000]\tvalid_set's l1: 39.4437\n",
      "[2000]\tvalid_set's l1: 38.8428\n"
     ]
    },
    {
     "name": "stderr",
     "output_type": "stream",
     "text": [
      "\tRan out of time, early stopping on iteration 3027. Best iteration is:\n",
      "\t[3027]\tvalid_set's l1: 38.6253\n"
     ]
    },
    {
     "name": "stdout",
     "output_type": "stream",
     "text": [
      "[3000]\tvalid_set's l1: 38.6369\n",
      "[1000]\tvalid_set's l1: 39.9258\n",
      "[2000]\tvalid_set's l1: 39.4676\n",
      "[3000]\tvalid_set's l1: 39.2279\n"
     ]
    },
    {
     "name": "stderr",
     "output_type": "stream",
     "text": [
      "\tRan out of time, early stopping on iteration 3385. Best iteration is:\n",
      "\t[3364]\tvalid_set's l1: 39.1533\n",
      "\t-38.6459\t = Validation score   (-mean_absolute_error)\n",
      "\t176.88s\t = Training   runtime\n",
      "\t12.25s\t = Validation runtime\n",
      "Fitting model: LightGBM_BAG_L2 ... Training model for up to 3.31s of the 3.27s of remaining time.\n",
      "\tMemory not enough to fit LGBModel folds in parallel. Will do sequential fitting instead. \tConsider decreasing folds trained in parallel by passing num_folds_parallel to ag_args_ensemble when calling predictor.fit\n",
      "\tFitting 8 child models (S1F1 - S1F8) | Fitting with SequentialLocalFoldFittingStrategy\n",
      "\tRan out of time, early stopping on iteration 1. Best iteration is:\n",
      "\t[1]\tvalid_set's l1: 78.3544\n",
      "\tTime limit exceeded... Skipping LightGBM_BAG_L2.\n",
      "Fitting model: RandomForestMSE_BAG_L2 ... Training model for up to 2.01s of the 1.97s of remaining time.\n",
      "\tWarning: Model is expected to require 518.0s to train, which exceeds the maximum time limit of 2.0s, skipping model...\n",
      "\tTime limit exceeded... Skipping RandomForestMSE_BAG_L2.\n",
      "Completed 1/20 k-fold bagging repeats ...\n",
      "Fitting model: WeightedEnsemble_L3 ... Training model for up to 360.0s of the -5.42s of remaining time.\n",
      "\t-38.6459\t = Validation score   (-mean_absolute_error)\n",
      "\t0.02s\t = Training   runtime\n",
      "\t0.01s\t = Validation runtime\n",
      "AutoGluon training complete, total runtime = 605.58s ... Best model: \"WeightedEnsemble_L3\"\n",
      "TabularPredictor saved. To load, use: predictor = TabularPredictor.load(\"automodel\\\")\n"
     ]
    },
    {
     "data": {
      "text/plain": [
       "<autogluon.tabular.predictor.predictor.TabularPredictor at 0x19fc2465600>"
      ]
     },
     "execution_count": 5,
     "metadata": {},
     "output_type": "execute_result"
    }
   ],
   "source": [
    "train_data = TabularDataset(train)\n",
    "save_path = 'automodel'\n",
    "predictor =  TabularPredictor(\n",
    "    label = 'CI_HOUR',\n",
    "    path=save_path,\n",
    "    eval_metric = 'mean_absolute_error',\n",
    "    problem_type = 'regression'\n",
    ")\n",
    "predictor.fit(\n",
    "    train_data = train_data,\n",
    "    presets = 'best_quality',\n",
    "    time_limit = 60*10\n",
    ")"
   ]
  },
  {
   "cell_type": "code",
   "execution_count": 6,
   "id": "4406a21f-c07f-41d2-bc3f-5c5a950a3a7b",
   "metadata": {},
   "outputs": [
    {
     "name": "stdout",
     "output_type": "stream",
     "text": [
      "                 model  score_val  pred_time_val    fit_time  pred_time_val_marginal  fit_time_marginal  stack_level  can_infer  fit_order\n",
      "0    LightGBMXT_BAG_L2 -38.645944      56.267176  521.910774               12.249727         176.878206            2       True          3\n",
      "1  WeightedEnsemble_L3 -38.645944      56.276688  521.925996                0.009512           0.015222            3       True          4\n",
      "2    LightGBMXT_BAG_L1 -45.818565      44.017449  345.032568               44.017449         345.032568            1       True          1\n",
      "3  WeightedEnsemble_L2 -45.818565      44.025463  345.045965                0.008014           0.013398            2       True          2\n"
     ]
    },
    {
     "data": {
      "text/html": [
       "<div>\n",
       "<style scoped>\n",
       "    .dataframe tbody tr th:only-of-type {\n",
       "        vertical-align: middle;\n",
       "    }\n",
       "\n",
       "    .dataframe tbody tr th {\n",
       "        vertical-align: top;\n",
       "    }\n",
       "\n",
       "    .dataframe thead th {\n",
       "        text-align: right;\n",
       "    }\n",
       "</style>\n",
       "<table border=\"1\" class=\"dataframe\">\n",
       "  <thead>\n",
       "    <tr style=\"text-align: right;\">\n",
       "      <th></th>\n",
       "      <th>model</th>\n",
       "      <th>score_val</th>\n",
       "      <th>pred_time_val</th>\n",
       "      <th>fit_time</th>\n",
       "      <th>pred_time_val_marginal</th>\n",
       "      <th>fit_time_marginal</th>\n",
       "      <th>stack_level</th>\n",
       "      <th>can_infer</th>\n",
       "      <th>fit_order</th>\n",
       "    </tr>\n",
       "  </thead>\n",
       "  <tbody>\n",
       "    <tr>\n",
       "      <th>0</th>\n",
       "      <td>LightGBMXT_BAG_L2</td>\n",
       "      <td>-38.645944</td>\n",
       "      <td>56.267176</td>\n",
       "      <td>521.910774</td>\n",
       "      <td>12.249727</td>\n",
       "      <td>176.878206</td>\n",
       "      <td>2</td>\n",
       "      <td>True</td>\n",
       "      <td>3</td>\n",
       "    </tr>\n",
       "    <tr>\n",
       "      <th>1</th>\n",
       "      <td>WeightedEnsemble_L3</td>\n",
       "      <td>-38.645944</td>\n",
       "      <td>56.276688</td>\n",
       "      <td>521.925996</td>\n",
       "      <td>0.009512</td>\n",
       "      <td>0.015222</td>\n",
       "      <td>3</td>\n",
       "      <td>True</td>\n",
       "      <td>4</td>\n",
       "    </tr>\n",
       "    <tr>\n",
       "      <th>2</th>\n",
       "      <td>LightGBMXT_BAG_L1</td>\n",
       "      <td>-45.818565</td>\n",
       "      <td>44.017449</td>\n",
       "      <td>345.032568</td>\n",
       "      <td>44.017449</td>\n",
       "      <td>345.032568</td>\n",
       "      <td>1</td>\n",
       "      <td>True</td>\n",
       "      <td>1</td>\n",
       "    </tr>\n",
       "    <tr>\n",
       "      <th>3</th>\n",
       "      <td>WeightedEnsemble_L2</td>\n",
       "      <td>-45.818565</td>\n",
       "      <td>44.025463</td>\n",
       "      <td>345.045965</td>\n",
       "      <td>0.008014</td>\n",
       "      <td>0.013398</td>\n",
       "      <td>2</td>\n",
       "      <td>True</td>\n",
       "      <td>2</td>\n",
       "    </tr>\n",
       "  </tbody>\n",
       "</table>\n",
       "</div>"
      ],
      "text/plain": [
       "                 model  score_val  pred_time_val    fit_time  \\\n",
       "0    LightGBMXT_BAG_L2 -38.645944      56.267176  521.910774   \n",
       "1  WeightedEnsemble_L3 -38.645944      56.276688  521.925996   \n",
       "2    LightGBMXT_BAG_L1 -45.818565      44.017449  345.032568   \n",
       "3  WeightedEnsemble_L2 -45.818565      44.025463  345.045965   \n",
       "\n",
       "   pred_time_val_marginal  fit_time_marginal  stack_level  can_infer  \\\n",
       "0               12.249727         176.878206            2       True   \n",
       "1                0.009512           0.015222            3       True   \n",
       "2               44.017449         345.032568            1       True   \n",
       "3                0.008014           0.013398            2       True   \n",
       "\n",
       "   fit_order  \n",
       "0          3  \n",
       "1          4  \n",
       "2          1  \n",
       "3          2  "
      ]
     },
     "execution_count": 6,
     "metadata": {},
     "output_type": "execute_result"
    }
   ],
   "source": [
    "predictor.leaderboard()"
   ]
  },
  {
   "cell_type": "code",
   "execution_count": 7,
   "id": "14ce9f64-6238-473e-9f9e-1a6314b7dcea",
   "metadata": {},
   "outputs": [],
   "source": [
    "preds = predictor.predict(test)"
   ]
  },
  {
   "cell_type": "code",
   "execution_count": 8,
   "id": "63a79ad1-2baa-4e7b-b6e9-3a639b48642b",
   "metadata": {},
   "outputs": [],
   "source": [
    "submit = pd.read_csv('sample_submission.csv')\n",
    "submit['CI_HOUR'] = preds\n",
    "submit.to_csv('autogluon_submit.csv', index=False)"
   ]
  }
 ],
 "metadata": {
  "kernelspec": {
   "display_name": "Python 3 (ipykernel)",
   "language": "python",
   "name": "python3"
  },
  "language_info": {
   "codemirror_mode": {
    "name": "ipython",
    "version": 3
   },
   "file_extension": ".py",
   "mimetype": "text/x-python",
   "name": "python",
   "nbconvert_exporter": "python",
   "pygments_lexer": "ipython3",
   "version": "3.10.8"
  }
 },
 "nbformat": 4,
 "nbformat_minor": 5
}
