{
 "cells": [
  {
   "cell_type": "code",
   "execution_count": 1,
   "id": "e6b6f894-953a-4847-9501-556b9abd26f8",
   "metadata": {},
   "outputs": [
    {
     "name": "stderr",
     "output_type": "stream",
     "text": [
      "Encoding features: 100%|█████████████████████████████████████████████████████████████████| 6/6 [00:01<00:00,  3.22it/s]\n"
     ]
    }
   ],
   "source": [
    "import matplotlib.pyplot as plt\n",
    "import pandas as pd\n",
    "import numpy as np\n",
    "import lightgbm as lgb\n",
    "import bisect\n",
    "from tqdm import tqdm\n",
    "from sklearn.metrics import mean_absolute_error\n",
    "from sklearn.preprocessing import LabelEncoder\n",
    "from sklearn.model_selection import KFold\n",
    "\n",
    "train = pd.read_csv('C:/Users/user/python_인공지능/Hyundai_AI_Challenge/train.csv').drop(columns=['SAMPLE_ID'])\n",
    "test = pd.read_csv('C:/Users/user/python_인공지능/Hyundai_AI_Challenge/test.csv').drop(columns=['SAMPLE_ID'])\n",
    "\n",
    "# datetime 컬럼 처리\n",
    "train['ATA'] = pd.to_datetime(train['ATA'])\n",
    "test['ATA'] = pd.to_datetime(test['ATA'])\n",
    "\n",
    "# datetime을 여러 파생 변수로 변환\n",
    "for df in [train, test]:\n",
    "    df['year'] = df['ATA'].dt.year\n",
    "    df['month'] = df['ATA'].dt.month\n",
    "    df['day'] = df['ATA'].dt.day\n",
    "    df['hour'] = df['ATA'].dt.hour\n",
    "    df['minute'] = df['ATA'].dt.minute\n",
    "    df['weekday'] = df['ATA'].dt.weekday\n",
    "\n",
    "# datetime 컬럼 제거\n",
    "train.drop(columns='ATA', inplace=True)\n",
    "test.drop(columns='ATA', inplace=True)\n",
    "\n",
    "# Categorical 컬럼 인코딩\n",
    "categorical_features = ['ARI_CO', 'ARI_PO', 'SHIP_TYPE_CATEGORY', 'ID', 'SHIPMANAGER', 'FLAG']\n",
    "encoders = {}\n",
    "\n",
    "for feature in tqdm(categorical_features, desc=\"Encoding features\"):\n",
    "    le = LabelEncoder()\n",
    "    train[feature] = le.fit_transform(train[feature].astype(str))\n",
    "    le_classes_set = set(le.classes_)\n",
    "    test[feature] = test[feature].map(lambda s: '-1' if s not in le_classes_set else s)\n",
    "    le_classes = le.classes_.tolist()\n",
    "    bisect.insort_left(le_classes, '-1')\n",
    "    le.classes_ = np.array(le_classes)\n",
    "    test[feature] = le.transform(test[feature].astype(str))\n",
    "    encoders[feature] = le\n",
    "\n",
    "# 결측치 처리\n",
    "train.fillna(train.mean(), inplace=True)\n",
    "test.fillna(train.mean(), inplace=True)"
   ]
  },
  {
   "cell_type": "code",
   "execution_count": 2,
   "id": "24dec8b8-4c53-4391-926b-f4d77cc7cce2",
   "metadata": {},
   "outputs": [],
   "source": [
    "# 학습용 데이터 정답 분리\n",
    "X = train.drop('CI_HOUR', axis=1)\n",
    "y = train['CI_HOUR']"
   ]
  },
  {
   "cell_type": "code",
   "execution_count": 3,
   "id": "6fc9e97d-9db4-4fce-aaec-230bf38c245f",
   "metadata": {},
   "outputs": [],
   "source": [
    "from sklearn.model_selection import train_test_split"
   ]
  },
  {
   "cell_type": "code",
   "execution_count": 4,
   "id": "202e1590-5517-43a4-adb8-69ad1a1ef366",
   "metadata": {},
   "outputs": [],
   "source": [
    "x_train,x_test,y_train,y_test = train_test_split(X,y,test_size=0.2,random_state=42)"
   ]
  },
  {
   "cell_type": "code",
   "execution_count": 5,
   "id": "c7c06cb6-045d-4c5f-ab13-8cd8ea074a6f",
   "metadata": {},
   "outputs": [],
   "source": [
    "import torch\n",
    "import torch.nn as nn\n",
    "import torch.optim as optim\n",
    "from torch.utils.data import Dataset,dataloader"
   ]
  },
  {
   "cell_type": "code",
   "execution_count": 6,
   "id": "5adc9a8b-452c-4844-b505-a0fff6593a56",
   "metadata": {},
   "outputs": [],
   "source": [
    "# 토치텐서로 변환\n",
    "x_train = torch.tensor(x_train.values,dtype=torch.float32)\n",
    "y_train = torch.tensor(y_train.values,dtype=torch.float32)\n",
    "x_test = torch.tensor(x_test.values,dtype=torch.float32)\n",
    "y_test = torch.tensor(y_test.values,dtype=torch.float32)"
   ]
  },
  {
   "cell_type": "code",
   "execution_count": 7,
   "id": "31829ce5-d5b4-41b2-919b-8038d2ceabc2",
   "metadata": {},
   "outputs": [],
   "source": [
    "# 다층 퍼셉트론\n",
    "class MLP(nn.Module):\n",
    "  def __init__(self):\n",
    "    super(MLP,self).__init__()\n",
    "    self.fc1 = nn.Linear(in_features=len(X.columns), out_features=64)\n",
    "    self.fc2 = nn.Linear(in_features=64, out_features=32)\n",
    "    self.fc3 = nn.Linear(in_features=32, out_features=1)\n",
    "    self.relu = nn.ReLU()\n",
    "  def forward(self,x):\n",
    "    x = self.relu(self.fc1(x))\n",
    "    x = self.relu(self.fc2(x))\n",
    "    x = self.fc3(x)\n",
    "    return x\n",
    "model = MLP()"
   ]
  },
  {
   "cell_type": "code",
   "execution_count": 8,
   "id": "761913f8-24d7-4bf2-866f-b2511d83d297",
   "metadata": {},
   "outputs": [
    {
     "data": {
      "text/plain": [
       "tensor([[  6.6269],\n",
       "        [  0.0000],\n",
       "        [  0.0000],\n",
       "        ...,\n",
       "        [126.1011],\n",
       "        [  3.3358],\n",
       "        [ 15.0289]])"
      ]
     },
     "execution_count": 8,
     "metadata": {},
     "output_type": "execute_result"
    }
   ],
   "source": [
    "y_train.reshape(-1,1)"
   ]
  },
  {
   "cell_type": "code",
   "execution_count": 9,
   "id": "bdc40786-e311-4c62-9f05-f5bbef883dbd",
   "metadata": {},
   "outputs": [
    {
     "name": "stderr",
     "output_type": "stream",
     "text": [
      "epoch0 loss:15292.8115234375: 100%|███████████████████████████████████████████████| 4593/4593 [00:14<00:00, 312.35it/s]\n",
      "epoch1 loss:56782.00390625: 100%|█████████████████████████████████████████████████| 4593/4593 [00:15<00:00, 303.75it/s]\n",
      "epoch2 loss:58582.3046875: 100%|██████████████████████████████████████████████████| 4593/4593 [00:15<00:00, 299.91it/s]\n",
      "epoch3 loss:37901.3671875: 100%|██████████████████████████████████████████████████| 4593/4593 [00:15<00:00, 291.90it/s]\n",
      "epoch4 loss:12015.0234375: 100%|██████████████████████████████████████████████████| 4593/4593 [00:15<00:00, 303.60it/s]\n",
      "epoch5 loss:106523.0859375: 100%|█████████████████████████████████████████████████| 4593/4593 [00:14<00:00, 307.87it/s]\n",
      "epoch6 loss:49907.38671875: 100%|█████████████████████████████████████████████████| 4593/4593 [00:14<00:00, 308.87it/s]\n",
      "epoch7 loss:39937.828125: 100%|███████████████████████████████████████████████████| 4593/4593 [00:14<00:00, 312.70it/s]\n",
      "epoch8 loss:5568.81591796875: 100%|███████████████████████████████████████████████| 4593/4593 [00:14<00:00, 315.39it/s]\n",
      "epoch9 loss:17607.404296875: 100%|████████████████████████████████████████████████| 4593/4593 [00:14<00:00, 323.78it/s]\n"
     ]
    }
   ],
   "source": [
    "train_dataset = torch.utils.data.TensorDataset(x_train,y_train.reshape(-1,1))\n",
    "train_loader = torch.utils.data.DataLoader(train_dataset,batch_size=64, shuffle=True)\n",
    "\n",
    "opt = optim.Adam(model.parameters(), lr = 1e-3)\n",
    "\n",
    "device = 'cuda' if torch.cuda.is_available() else 'cpu'\n",
    "\n",
    "model.to(device)\n",
    "for epoch in range(10):\n",
    "  iter = tqdm(train_loader)\n",
    "  for data, label in iter:\n",
    "    opt.zero_grad()\n",
    "    pred = model(data.to(device))\n",
    "    loss = nn.MSELoss()(pred,label.to(device))\n",
    "    loss.backward()\n",
    "    opt.step()\n",
    "    iter.set_description(f\"epoch{epoch} loss:{loss.item()}\")\n",
    "torch.save(model.state_dict(), 'MLP.pth')"
   ]
  },
  {
   "cell_type": "code",
   "execution_count": 10,
   "id": "d5c26b69-7fac-4976-a466-a181587af380",
   "metadata": {},
   "outputs": [
    {
     "data": {
      "text/plain": [
       "<All keys matched successfully>"
      ]
     },
     "execution_count": 10,
     "metadata": {},
     "output_type": "execute_result"
    }
   ],
   "source": [
    "# 모델 불러오기\n",
    "model.load_state_dict(torch.load('MLP.pth', map_location=device))"
   ]
  },
  {
   "cell_type": "code",
   "execution_count": 11,
   "id": "76a997be-03a3-48dd-ace1-39970d1e1bed",
   "metadata": {},
   "outputs": [],
   "source": [
    "test_data =  torch.tensor(test.values,dtype=torch.float32)"
   ]
  },
  {
   "cell_type": "code",
   "execution_count": 12,
   "id": "598bfadb-bcab-43f1-8180-4d51174e69d7",
   "metadata": {},
   "outputs": [],
   "source": [
    "with torch.no_grad():\n",
    "  pred = model(test_data)"
   ]
  },
  {
   "cell_type": "code",
   "execution_count": 13,
   "id": "d788445b-bba7-4c52-88b8-e9ee67bb7e48",
   "metadata": {},
   "outputs": [
    {
     "data": {
      "text/plain": [
       "(244989, 1)"
      ]
     },
     "execution_count": 13,
     "metadata": {},
     "output_type": "execute_result"
    }
   ],
   "source": [
    "pred.numpy().shape"
   ]
  },
  {
   "cell_type": "code",
   "execution_count": 14,
   "id": "19d05a27-2c41-4578-b761-9a484e34f291",
   "metadata": {},
   "outputs": [],
   "source": [
    "submit = pd.read_csv('C:/Users/user/python_인공지능/Hyundai_AI_Challenge/sample_submission.csv')\n",
    "submit['CI_HOUR'] = pred.numpy()\n",
    "submit.to_csv('C:/Users/user/python_인공지능/Hyundai_AI_Challenge/baseline_submit.csv', index=False)"
   ]
  }
 ],
 "metadata": {
  "kernelspec": {
   "display_name": "Python 3 (ipykernel)",
   "language": "python",
   "name": "python3"
  },
  "language_info": {
   "codemirror_mode": {
    "name": "ipython",
    "version": 3
   },
   "file_extension": ".py",
   "mimetype": "text/x-python",
   "name": "python",
   "nbconvert_exporter": "python",
   "pygments_lexer": "ipython3",
   "version": "3.10.8"
  }
 },
 "nbformat": 4,
 "nbformat_minor": 5
}
